{
 "cells": [
  {
   "cell_type": "markdown",
   "metadata": {},
   "source": [
    "# Capstone Project: Create a Customer Segmentation Report for Arvato Financial Services\n",
    "\n",
    "In this project, you will analyze demographics data for customers of a mail-order sales company in Germany, comparing it against demographics information for the general population. You'll use unsupervised learning techniques to perform customer segmentation, identifying the parts of the population that best describe the core customer base of the company. Then, you'll apply what you've learned on a third dataset with demographics information for targets of a marketing campaign for the company, and use a model to predict which individuals are most likely to convert into becoming customers for the company. The data that you will use has been provided by our partners at Bertelsmann Arvato Analytics, and represents a real-life data science task.\n",
    "\n",
    "If you completed the first term of this program, you will be familiar with the first part of this project, from the unsupervised learning project. The versions of those two datasets used in this project will include many more features and has not been pre-cleaned. You are also free to choose whatever approach you'd like to analyzing the data rather than follow pre-determined steps. In your work on this project, make sure that you carefully document your steps and decisions, since your main deliverable for this project will be a blog post reporting your findings."
   ]
  },
  {
   "cell_type": "code",
   "execution_count": 1,
   "metadata": {},
   "outputs": [
    {
     "name": "stdout",
     "output_type": "stream",
     "text": [
      "Collecting progressbar\n",
      "  Downloading https://files.pythonhosted.org/packages/a3/a6/b8e451f6cff1c99b4747a2f7235aa904d2d49e8e1464e0b798272aa84358/progressbar-2.5.tar.gz\n",
      "Building wheels for collected packages: progressbar\n",
      "  Running setup.py bdist_wheel for progressbar ... \u001b[?25ldone\n",
      "\u001b[?25h  Stored in directory: /root/.cache/pip/wheels/c0/e9/6b/ea01090205e285175842339aa3b491adeb4015206cda272ff0\n",
      "Successfully built progressbar\n",
      "Installing collected packages: progressbar\n",
      "Successfully installed progressbar-2.5\n",
      "Collecting xgboost\n",
      "\u001b[?25l  Downloading https://files.pythonhosted.org/packages/70/91/551d37ba472bcbd70a25e667acc65a18a9d053657b13afcf0f87aa24d7bb/xgboost-1.0.2-py3-none-manylinux1_x86_64.whl (109.7MB)\n",
      "\u001b[K    100% |████████████████████████████████| 109.8MB 347kB/s eta 0:00:01 0% |▎                               | 952kB 10.9MB/s eta 0:00:10    3% |█▏                              | 3.9MB 28.3MB/s eta 0:00:04    9% |███                             | 10.0MB 30.3MB/s eta 0:00:04    10% |███▍                            | 11.5MB 31.9MB/s eta 0:00:04    14% |████▋                           | 15.9MB 32.3MB/s eta 0:00:03    19% |██████▍                         | 21.8MB 27.5MB/s eta 0:00:04    24% |████████                        | 27.4MB 22.4MB/s eta 0:00:04    26% |████████▍                       | 28.8MB 29.3MB/s eta 0:00:03    27% |████████▉                       | 30.2MB 30.5MB/s eta 0:00:03    34% |███████████                     | 37.4MB 26.8MB/s eta 0:00:03    37% |████████████                    | 41.5MB 23.3MB/s eta 0:00:03    38% |████████████▌                   | 42.8MB 21.8MB/s eta 0:00:04    44% |██████████████▍                 | 49.3MB 27.6MB/s eta 0:00:03    47% |███████████████▏                | 51.9MB 27.0MB/s eta 0:00:03    51% |████████████████▋               | 57.0MB 25.8MB/s eta 0:00:03    53% |█████████████████               | 58.2MB 25.9MB/s eta 0:00:02    55% |█████████████████▊              | 60.7MB 24.8MB/s eta 0:00:02    56% |██████████████████              | 61.9MB 20.4MB/s eta 0:00:03    65% |████████████████████▉           | 71.4MB 18.6MB/s eta 0:00:03    70% |██████████████████████▍         | 76.9MB 18.3MB/s eta 0:00:02    70% |██████████████████████▊         | 77.9MB 19.9MB/s eta 0:00:02    71% |███████████████████████         | 78.9MB 22.1MB/s eta 0:00:02    75% |████████████████████████▏       | 82.8MB 21.4MB/s eta 0:00:02    76% |████████████████████████▍       | 83.8MB 21.9MB/s eta 0:00:02    78% |█████████████████████████       | 85.7MB 19.4MB/s eta 0:00:02    79% |█████████████████████████▎      | 86.8MB 17.8MB/s eta 0:00:02    88% |████████████████████████████▎   | 97.0MB 18.7MB/s eta 0:00:01    89% |████████████████████████████▋   | 98.0MB 18.6MB/s eta 0:00:01    94% |██████████████████████████████▏ | 103.6MB 22.1MB/s eta 0:00:01    96% |██████████████████████████████▊ | 105.4MB 8.7MB/s eta 0:00:01    97% |███████████████████████████████ | 106.6MB 11.2MB/s eta 0:00:01    97% |███████████████████████████████▎| 107.2MB 12.0MB/s eta 0:00:01    98% |███████████████████████████████▌| 107.9MB 14.2MB/s eta 0:00:01    99% |███████████████████████████████▊| 108.8MB 22.0MB/s eta 0:00:01\n",
      "\u001b[?25hRequirement already satisfied: numpy in /opt/conda/lib/python3.6/site-packages (from xgboost) (1.12.1)\n",
      "Requirement already satisfied: scipy in /opt/conda/lib/python3.6/site-packages (from xgboost) (1.2.1)\n",
      "Installing collected packages: xgboost\n",
      "Successfully installed xgboost-1.0.2\n"
     ]
    }
   ],
   "source": [
    "# import libraries here; add more as necessary\n",
    "import numpy as np\n",
    "import pandas as pd\n",
    "import matplotlib.pyplot as plt\n",
    "import seaborn as sns\n",
    "from scipy import stats\n",
    "from time import time\n",
    "import os\n",
    "import random\n",
    "\n",
    "!pip install progressbar\n",
    "!pip install xgboost\n",
    "\n",
    "import progressbar\n",
    "\n",
    "from sklearn.model_selection import train_test_split \n",
    "from sklearn.model_selection import GridSearchCV, StratifiedKFold\n",
    "from sklearn.model_selection import cross_val_score\n",
    "from sklearn.model_selection import learning_curve\n",
    "\n",
    "from sklearn.preprocessing import RobustScaler, StandardScaler, MinMaxScaler\n",
    "from sklearn.preprocessing import Imputer\n",
    "\n",
    "from sklearn.ensemble import AdaBoostRegressor, GradientBoostingRegressor\n",
    "from sklearn.ensemble import RandomForestRegressor\n",
    "\n",
    "\n",
    "from sklearn import metrics\n",
    "from sklearn.metrics import roc_auc_score, fbeta_score, accuracy_score, precision_score, recall_score\n",
    "\n",
    "\n",
    "from sklearn.decomposition import PCA\n",
    "\n",
    "from sklearn.cluster import KMeans, DBSCAN, MeanShift\n",
    "\n",
    "import xgboost as xgb\n",
    "from xgboost.sklearn import XGBRegressor \n",
    "\n",
    "\n",
    "\n",
    "# magic word for producing visualizations in notebook\n",
    "%matplotlib inline\n",
    "%config InlineBachend.figure_format = 'retina'"
   ]
  },
  {
   "cell_type": "markdown",
   "metadata": {},
   "source": [
    "## Part 0: Get to Know the Data\n",
    "\n",
    "There are four data files associated with this project:\n",
    "\n",
    "- `Udacity_AZDIAS_052018.csv`: Demographics data for the general population of Germany; 891 211 persons (rows) x 366 features (columns).\n",
    "- `Udacity_CUSTOMERS_052018.csv`: Demographics data for customers of a mail-order company; 191 652 persons (rows) x 369 features (columns).\n",
    "- `Udacity_MAILOUT_052018_TRAIN.csv`: Demographics data for individuals who were targets of a marketing campaign; 42 982 persons (rows) x 367 (columns).\n",
    "- `Udacity_MAILOUT_052018_TEST.csv`: Demographics data for individuals who were targets of a marketing campaign; 42 833 persons (rows) x 366 (columns).\n",
    "\n",
    "Each row of the demographics files represents a single person, but also includes information outside of individuals, including information about their household, building, and neighborhood. Use the information from the first two files to figure out how customers (\"CUSTOMERS\") are similar to or differ from the general population at large (\"AZDIAS\"), then use your analysis to make predictions on the other two files (\"MAILOUT\"), predicting which recipients are most likely to become a customer for the mail-order company.\n",
    "\n",
    "The \"CUSTOMERS\" file contains three extra columns ('CUSTOMER_GROUP', 'ONLINE_PURCHASE', and 'PRODUCT_GROUP'), which provide broad information about the customers depicted in the file. The original \"MAILOUT\" file included one additional column, \"RESPONSE\", which indicated whether or not each recipient became a customer of the company. For the \"TRAIN\" subset, this column has been retained, but in the \"TEST\" subset it has been removed; it is against that withheld column that your final predictions will be assessed in the Kaggle competition.\n",
    "\n",
    "Otherwise, all of the remaining columns are the same between the three data files. For more information about the columns depicted in the files, you can refer to two Excel spreadsheets provided in the workspace. [One of them](./DIAS Information Levels - Attributes 2017.xlsx) is a top-level list of attributes and descriptions, organized by informational category. [The other](./DIAS Attributes - Values 2017.xlsx) is a detailed mapping of data values for each feature in alphabetical order.\n",
    "\n",
    "In the below cell, we've provided some initial code to load in the first two datasets. Note for all of the `.csv` data files in this project that they're semicolon (`;`) delimited, so an additional argument in the [`read_csv()`](https://pandas.pydata.org/pandas-docs/stable/generated/pandas.read_csv.html) call has been included to read in the data properly. Also, considering the size of the datasets, it may take some time for them to load completely.\n",
    "\n",
    "You'll notice when the data is loaded in that a warning message will immediately pop up. Before you really start digging into the modeling and analysis, you're going to need to perform some cleaning. Take some time to browse the structure of the data and look over the informational spreadsheets to understand the data values. Make some decisions on which features to keep, which features to drop, and if any revisions need to be made on data formats. It'll be a good idea to create a function with pre-processing steps, since you'll need to clean all of the datasets before you work with them."
   ]
  },
  {
   "cell_type": "code",
   "execution_count": 2,
   "metadata": {},
   "outputs": [
    {
     "name": "stderr",
     "output_type": "stream",
     "text": [
      "/opt/conda/lib/python3.6/site-packages/IPython/core/interactiveshell.py:2785: DtypeWarning: Columns (18,19) have mixed types. Specify dtype option on import or set low_memory=False.\n",
      "  interactivity=interactivity, compiler=compiler, result=result)\n"
     ]
    }
   ],
   "source": [
    "# load in the data\n",
    "azdias = pd.read_csv('../../data/Term2/capstone/arvato_data/Udacity_AZDIAS_052018.csv', sep=';')\n",
    "customers = pd.read_csv('../../data/Term2/capstone/arvato_data/Udacity_CUSTOMERS_052018.csv', sep=';')\n"
   ]
  },
  {
   "cell_type": "markdown",
   "metadata": {},
   "source": [
    "Make a copy of original DataFrams to compare the performance or further use:"
   ]
  },
  {
   "cell_type": "code",
   "execution_count": 3,
   "metadata": {},
   "outputs": [],
   "source": [
    "azdias_copy = azdias.copy()\n",
    "customers_copy = customers.copy()\n",
    "azdias = azdias_copy\n",
    "customers = customers_copy"
   ]
  },
  {
   "cell_type": "markdown",
   "metadata": {},
   "source": [
    "# Exploratory Data Analysis"
   ]
  },
  {
   "cell_type": "code",
   "execution_count": 4,
   "metadata": {},
   "outputs": [
    {
     "data": {
      "text/html": [
       "<div>\n",
       "<style scoped>\n",
       "    .dataframe tbody tr th:only-of-type {\n",
       "        vertical-align: middle;\n",
       "    }\n",
       "\n",
       "    .dataframe tbody tr th {\n",
       "        vertical-align: top;\n",
       "    }\n",
       "\n",
       "    .dataframe thead th {\n",
       "        text-align: right;\n",
       "    }\n",
       "</style>\n",
       "<table border=\"1\" class=\"dataframe\">\n",
       "  <thead>\n",
       "    <tr style=\"text-align: right;\">\n",
       "      <th></th>\n",
       "      <th>LNR</th>\n",
       "      <th>AGER_TYP</th>\n",
       "      <th>AKT_DAT_KL</th>\n",
       "      <th>ALTER_HH</th>\n",
       "      <th>ALTER_KIND1</th>\n",
       "      <th>ALTER_KIND2</th>\n",
       "      <th>ALTER_KIND3</th>\n",
       "      <th>ALTER_KIND4</th>\n",
       "      <th>ALTERSKATEGORIE_FEIN</th>\n",
       "      <th>ANZ_HAUSHALTE_AKTIV</th>\n",
       "      <th>...</th>\n",
       "      <th>VHN</th>\n",
       "      <th>VK_DHT4A</th>\n",
       "      <th>VK_DISTANZ</th>\n",
       "      <th>VK_ZG11</th>\n",
       "      <th>W_KEIT_KIND_HH</th>\n",
       "      <th>WOHNDAUER_2008</th>\n",
       "      <th>WOHNLAGE</th>\n",
       "      <th>ZABEOTYP</th>\n",
       "      <th>ANREDE_KZ</th>\n",
       "      <th>ALTERSKATEGORIE_GROB</th>\n",
       "    </tr>\n",
       "  </thead>\n",
       "  <tbody>\n",
       "    <tr>\n",
       "      <th>count</th>\n",
       "      <td>8.912210e+05</td>\n",
       "      <td>891221.000000</td>\n",
       "      <td>817722.000000</td>\n",
       "      <td>817722.000000</td>\n",
       "      <td>81058.000000</td>\n",
       "      <td>29499.000000</td>\n",
       "      <td>6170.000000</td>\n",
       "      <td>1205.000000</td>\n",
       "      <td>628274.000000</td>\n",
       "      <td>798073.000000</td>\n",
       "      <td>...</td>\n",
       "      <td>770025.000000</td>\n",
       "      <td>815304.000000</td>\n",
       "      <td>815304.000000</td>\n",
       "      <td>815304.000000</td>\n",
       "      <td>783619.000000</td>\n",
       "      <td>817722.000000</td>\n",
       "      <td>798073.000000</td>\n",
       "      <td>891221.000000</td>\n",
       "      <td>891221.000000</td>\n",
       "      <td>891221.000000</td>\n",
       "    </tr>\n",
       "    <tr>\n",
       "      <th>mean</th>\n",
       "      <td>6.372630e+05</td>\n",
       "      <td>-0.358435</td>\n",
       "      <td>4.421928</td>\n",
       "      <td>10.864126</td>\n",
       "      <td>11.745392</td>\n",
       "      <td>13.402658</td>\n",
       "      <td>14.476013</td>\n",
       "      <td>15.089627</td>\n",
       "      <td>13.700717</td>\n",
       "      <td>8.287263</td>\n",
       "      <td>...</td>\n",
       "      <td>2.417322</td>\n",
       "      <td>6.001214</td>\n",
       "      <td>7.532130</td>\n",
       "      <td>5.945972</td>\n",
       "      <td>3.933406</td>\n",
       "      <td>7.908791</td>\n",
       "      <td>4.052836</td>\n",
       "      <td>3.362438</td>\n",
       "      <td>1.522098</td>\n",
       "      <td>2.777398</td>\n",
       "    </tr>\n",
       "    <tr>\n",
       "      <th>std</th>\n",
       "      <td>2.572735e+05</td>\n",
       "      <td>1.198724</td>\n",
       "      <td>3.638805</td>\n",
       "      <td>7.639683</td>\n",
       "      <td>4.097660</td>\n",
       "      <td>3.243300</td>\n",
       "      <td>2.712427</td>\n",
       "      <td>2.452932</td>\n",
       "      <td>5.079849</td>\n",
       "      <td>15.628087</td>\n",
       "      <td>...</td>\n",
       "      <td>1.166572</td>\n",
       "      <td>2.856091</td>\n",
       "      <td>3.247789</td>\n",
       "      <td>2.771464</td>\n",
       "      <td>1.964701</td>\n",
       "      <td>1.923137</td>\n",
       "      <td>1.949539</td>\n",
       "      <td>1.352704</td>\n",
       "      <td>0.499512</td>\n",
       "      <td>1.068775</td>\n",
       "    </tr>\n",
       "    <tr>\n",
       "      <th>min</th>\n",
       "      <td>1.916530e+05</td>\n",
       "      <td>-1.000000</td>\n",
       "      <td>1.000000</td>\n",
       "      <td>0.000000</td>\n",
       "      <td>2.000000</td>\n",
       "      <td>2.000000</td>\n",
       "      <td>4.000000</td>\n",
       "      <td>7.000000</td>\n",
       "      <td>0.000000</td>\n",
       "      <td>0.000000</td>\n",
       "      <td>...</td>\n",
       "      <td>0.000000</td>\n",
       "      <td>1.000000</td>\n",
       "      <td>1.000000</td>\n",
       "      <td>1.000000</td>\n",
       "      <td>0.000000</td>\n",
       "      <td>1.000000</td>\n",
       "      <td>0.000000</td>\n",
       "      <td>1.000000</td>\n",
       "      <td>1.000000</td>\n",
       "      <td>1.000000</td>\n",
       "    </tr>\n",
       "    <tr>\n",
       "      <th>25%</th>\n",
       "      <td>4.144580e+05</td>\n",
       "      <td>-1.000000</td>\n",
       "      <td>1.000000</td>\n",
       "      <td>0.000000</td>\n",
       "      <td>8.000000</td>\n",
       "      <td>11.000000</td>\n",
       "      <td>13.000000</td>\n",
       "      <td>14.000000</td>\n",
       "      <td>11.000000</td>\n",
       "      <td>1.000000</td>\n",
       "      <td>...</td>\n",
       "      <td>2.000000</td>\n",
       "      <td>3.000000</td>\n",
       "      <td>5.000000</td>\n",
       "      <td>4.000000</td>\n",
       "      <td>2.000000</td>\n",
       "      <td>8.000000</td>\n",
       "      <td>3.000000</td>\n",
       "      <td>3.000000</td>\n",
       "      <td>1.000000</td>\n",
       "      <td>2.000000</td>\n",
       "    </tr>\n",
       "    <tr>\n",
       "      <th>50%</th>\n",
       "      <td>6.372630e+05</td>\n",
       "      <td>-1.000000</td>\n",
       "      <td>3.000000</td>\n",
       "      <td>13.000000</td>\n",
       "      <td>12.000000</td>\n",
       "      <td>14.000000</td>\n",
       "      <td>15.000000</td>\n",
       "      <td>15.000000</td>\n",
       "      <td>14.000000</td>\n",
       "      <td>4.000000</td>\n",
       "      <td>...</td>\n",
       "      <td>2.000000</td>\n",
       "      <td>6.000000</td>\n",
       "      <td>8.000000</td>\n",
       "      <td>6.000000</td>\n",
       "      <td>4.000000</td>\n",
       "      <td>9.000000</td>\n",
       "      <td>3.000000</td>\n",
       "      <td>3.000000</td>\n",
       "      <td>2.000000</td>\n",
       "      <td>3.000000</td>\n",
       "    </tr>\n",
       "    <tr>\n",
       "      <th>75%</th>\n",
       "      <td>8.600680e+05</td>\n",
       "      <td>-1.000000</td>\n",
       "      <td>9.000000</td>\n",
       "      <td>17.000000</td>\n",
       "      <td>15.000000</td>\n",
       "      <td>16.000000</td>\n",
       "      <td>17.000000</td>\n",
       "      <td>17.000000</td>\n",
       "      <td>17.000000</td>\n",
       "      <td>9.000000</td>\n",
       "      <td>...</td>\n",
       "      <td>3.000000</td>\n",
       "      <td>9.000000</td>\n",
       "      <td>10.000000</td>\n",
       "      <td>8.000000</td>\n",
       "      <td>6.000000</td>\n",
       "      <td>9.000000</td>\n",
       "      <td>5.000000</td>\n",
       "      <td>4.000000</td>\n",
       "      <td>2.000000</td>\n",
       "      <td>4.000000</td>\n",
       "    </tr>\n",
       "    <tr>\n",
       "      <th>max</th>\n",
       "      <td>1.082873e+06</td>\n",
       "      <td>3.000000</td>\n",
       "      <td>9.000000</td>\n",
       "      <td>21.000000</td>\n",
       "      <td>18.000000</td>\n",
       "      <td>18.000000</td>\n",
       "      <td>18.000000</td>\n",
       "      <td>18.000000</td>\n",
       "      <td>25.000000</td>\n",
       "      <td>595.000000</td>\n",
       "      <td>...</td>\n",
       "      <td>4.000000</td>\n",
       "      <td>11.000000</td>\n",
       "      <td>13.000000</td>\n",
       "      <td>11.000000</td>\n",
       "      <td>6.000000</td>\n",
       "      <td>9.000000</td>\n",
       "      <td>8.000000</td>\n",
       "      <td>6.000000</td>\n",
       "      <td>2.000000</td>\n",
       "      <td>9.000000</td>\n",
       "    </tr>\n",
       "  </tbody>\n",
       "</table>\n",
       "<p>8 rows × 360 columns</p>\n",
       "</div>"
      ],
      "text/plain": [
       "                LNR       AGER_TYP     AKT_DAT_KL       ALTER_HH  \\\n",
       "count  8.912210e+05  891221.000000  817722.000000  817722.000000   \n",
       "mean   6.372630e+05      -0.358435       4.421928      10.864126   \n",
       "std    2.572735e+05       1.198724       3.638805       7.639683   \n",
       "min    1.916530e+05      -1.000000       1.000000       0.000000   \n",
       "25%    4.144580e+05      -1.000000       1.000000       0.000000   \n",
       "50%    6.372630e+05      -1.000000       3.000000      13.000000   \n",
       "75%    8.600680e+05      -1.000000       9.000000      17.000000   \n",
       "max    1.082873e+06       3.000000       9.000000      21.000000   \n",
       "\n",
       "        ALTER_KIND1   ALTER_KIND2  ALTER_KIND3  ALTER_KIND4  \\\n",
       "count  81058.000000  29499.000000  6170.000000  1205.000000   \n",
       "mean      11.745392     13.402658    14.476013    15.089627   \n",
       "std        4.097660      3.243300     2.712427     2.452932   \n",
       "min        2.000000      2.000000     4.000000     7.000000   \n",
       "25%        8.000000     11.000000    13.000000    14.000000   \n",
       "50%       12.000000     14.000000    15.000000    15.000000   \n",
       "75%       15.000000     16.000000    17.000000    17.000000   \n",
       "max       18.000000     18.000000    18.000000    18.000000   \n",
       "\n",
       "       ALTERSKATEGORIE_FEIN  ANZ_HAUSHALTE_AKTIV          ...           \\\n",
       "count         628274.000000        798073.000000          ...            \n",
       "mean              13.700717             8.287263          ...            \n",
       "std                5.079849            15.628087          ...            \n",
       "min                0.000000             0.000000          ...            \n",
       "25%               11.000000             1.000000          ...            \n",
       "50%               14.000000             4.000000          ...            \n",
       "75%               17.000000             9.000000          ...            \n",
       "max               25.000000           595.000000          ...            \n",
       "\n",
       "                 VHN       VK_DHT4A     VK_DISTANZ        VK_ZG11  \\\n",
       "count  770025.000000  815304.000000  815304.000000  815304.000000   \n",
       "mean        2.417322       6.001214       7.532130       5.945972   \n",
       "std         1.166572       2.856091       3.247789       2.771464   \n",
       "min         0.000000       1.000000       1.000000       1.000000   \n",
       "25%         2.000000       3.000000       5.000000       4.000000   \n",
       "50%         2.000000       6.000000       8.000000       6.000000   \n",
       "75%         3.000000       9.000000      10.000000       8.000000   \n",
       "max         4.000000      11.000000      13.000000      11.000000   \n",
       "\n",
       "       W_KEIT_KIND_HH  WOHNDAUER_2008       WOHNLAGE       ZABEOTYP  \\\n",
       "count   783619.000000   817722.000000  798073.000000  891221.000000   \n",
       "mean         3.933406        7.908791       4.052836       3.362438   \n",
       "std          1.964701        1.923137       1.949539       1.352704   \n",
       "min          0.000000        1.000000       0.000000       1.000000   \n",
       "25%          2.000000        8.000000       3.000000       3.000000   \n",
       "50%          4.000000        9.000000       3.000000       3.000000   \n",
       "75%          6.000000        9.000000       5.000000       4.000000   \n",
       "max          6.000000        9.000000       8.000000       6.000000   \n",
       "\n",
       "           ANREDE_KZ  ALTERSKATEGORIE_GROB  \n",
       "count  891221.000000         891221.000000  \n",
       "mean        1.522098              2.777398  \n",
       "std         0.499512              1.068775  \n",
       "min         1.000000              1.000000  \n",
       "25%         1.000000              2.000000  \n",
       "50%         2.000000              3.000000  \n",
       "75%         2.000000              4.000000  \n",
       "max         2.000000              9.000000  \n",
       "\n",
       "[8 rows x 360 columns]"
      ]
     },
     "execution_count": 4,
     "metadata": {},
     "output_type": "execute_result"
    }
   ],
   "source": [
    "azdias.describe()"
   ]
  },
  {
   "cell_type": "markdown",
   "metadata": {},
   "source": [
    "### Missing Values"
   ]
  },
  {
   "cell_type": "code",
   "execution_count": 5,
   "metadata": {},
   "outputs": [
    {
     "data": {
      "text/plain": [
       "<matplotlib.axes._subplots.AxesSubplot at 0x7f0c6865fd30>"
      ]
     },
     "execution_count": 5,
     "metadata": {},
     "output_type": "execute_result"
    },
    {
     "data": {
      "image/png": "[encoded data removed]",
      "text/plain": [
       "<matplotlib.figure.Figure at 0x7f0c6865fda0>"
      ]
     },
     "metadata": {
      "needs_background": "light"
     },
     "output_type": "display_data"
    }
   ],
   "source": [
    "# Total Missing Values\n",
    "missing_azdias_sum = azdias.isnull().sum()\n",
    "missing_azdias_prcnt = azdias.isnull().mean()\n",
    "\n",
    "# Visualize missing values\n",
    "missing_azdias_sum.sort_values(ascending=False)[:50].plot(kind='bar', figsize=(20,8))"
   ]
  },
  {
   "cell_type": "code",
   "execution_count": 6,
   "metadata": {},
   "outputs": [
    {
     "name": "stdout",
     "output_type": "stream",
     "text": [
      "% of missing data in columns \n",
      " ALTER_KIND4                    0.998648\n",
      "ALTER_KIND3                    0.993077\n",
      "ALTER_KIND2                    0.966900\n",
      "ALTER_KIND1                    0.909048\n",
      "EXTSEL992                      0.733996\n",
      "KK_KUNDENTYP                   0.655967\n",
      "ALTERSKATEGORIE_FEIN           0.295041\n",
      "D19_LETZTER_KAUF_BRANCHE       0.288495\n",
      "D19_LOTTO                      0.288495\n",
      "D19_VERSI_ONLINE_QUOTE_12      0.288495\n",
      "D19_BANKEN_ONLINE_QUOTE_12     0.288495\n",
      "D19_SOZIALES                   0.288495\n",
      "D19_GESAMT_ONLINE_QUOTE_12     0.288495\n",
      "D19_KONSUMTYP                  0.288495\n",
      "D19_TELKO_ONLINE_QUOTE_12      0.288495\n",
      "D19_VERSAND_ONLINE_QUOTE_12    0.288495\n",
      "KBA05_MOTOR                    0.149597\n",
      "KBA05_MOD8                     0.149597\n",
      "KBA05_MOD4                     0.149597\n",
      "KBA05_MOD3                     0.149597\n",
      "KBA05_MOD2                     0.149597\n",
      "KBA05_SEG1                     0.149597\n",
      "KBA05_MOD1                     0.149597\n",
      "KBA05_MAXVORB                  0.149597\n",
      "KBA05_MAXSEG                   0.149597\n",
      "KBA05_MAXHERST                 0.149597\n",
      "KBA05_MAXBJ                    0.149597\n",
      "KBA05_MAXAH                    0.149597\n",
      "KBA05_KW3                      0.149597\n",
      "KBA05_MOTRAD                   0.149597\n",
      "                                 ...   \n",
      "D19_RATGEBER                   0.000000\n",
      "FINANZ_ANLEGER                 0.000000\n",
      "D19_REISEN                     0.000000\n",
      "D19_SAMMELARTIKEL              0.000000\n",
      "D19_SCHUHE                     0.000000\n",
      "D19_SONSTIGE                   0.000000\n",
      "D19_TECHNIK                    0.000000\n",
      "D19_TELKO_ANZ_12               0.000000\n",
      "D19_TELKO_ANZ_24               0.000000\n",
      "D19_TELKO_DATUM                0.000000\n",
      "D19_TELKO_MOBILE               0.000000\n",
      "D19_TELKO_OFFLINE_DATUM        0.000000\n",
      "D19_TELKO_ONLINE_DATUM         0.000000\n",
      "D19_TELKO_REST                 0.000000\n",
      "D19_TIERARTIKEL                0.000000\n",
      "D19_VERSAND_ANZ_12             0.000000\n",
      "D19_VERSAND_ANZ_24             0.000000\n",
      "D19_VERSAND_DATUM              0.000000\n",
      "D19_VERSAND_OFFLINE_DATUM      0.000000\n",
      "D19_VERSAND_ONLINE_DATUM       0.000000\n",
      "D19_VERSAND_REST               0.000000\n",
      "D19_VERSI_ANZ_12               0.000000\n",
      "D19_VERSI_ANZ_24               0.000000\n",
      "D19_VERSI_DATUM                0.000000\n",
      "D19_VERSI_OFFLINE_DATUM        0.000000\n",
      "D19_VERSI_ONLINE_DATUM         0.000000\n",
      "D19_VERSICHERUNGEN             0.000000\n",
      "D19_VOLLSORTIMENT              0.000000\n",
      "D19_WEIN_FEINKOST              0.000000\n",
      "LNR                            0.000000\n",
      "Length: 366, dtype: float64\n"
     ]
    }
   ],
   "source": [
    "# % of missing data in columns \n",
    "print(\"% of missing data in columns\", \"\\n\", missing_azdias_prcnt.sort_values(ascending=False))"
   ]
  },
  {
   "cell_type": "code",
   "execution_count": 7,
   "metadata": {},
   "outputs": [
    {
     "data": {
      "text/plain": [
       "Text(0.5,0,'Proportion of Missing Values')"
      ]
     },
     "execution_count": 7,
     "metadata": {},
     "output_type": "execute_result"
    },
    {
     "data": {
      "image/png": "[encoded data removed]",
      "text/plain": [
       "<matplotlib.figure.Figure at 0x7f0c68d67898>"
      ]
     },
     "metadata": {
      "needs_background": "light"
     },
     "output_type": "display_data"
    }
   ],
   "source": [
    "# Visualize the missing tend\n",
    "plt.hist(missing_azdias_prcnt)\n",
    "plt.ylabel(\"Number of Features\")\n",
    "plt.xlabel(\"Proportion of Missing Values\")"
   ]
  },
  {
   "cell_type": "code",
   "execution_count": 8,
   "metadata": {},
   "outputs": [
    {
     "name": "stdout",
     "output_type": "stream",
     "text": [
      "Columns having missing values > 0% :   273\n",
      "Columns having missing values > 10% :   237\n",
      "Columns having missing values > 20% :   16\n",
      "Columns having missing values > 30% :   6\n",
      "Columns having missing values > 40% :   6\n",
      "Columns having missing values > 50% :   6\n",
      "Columns having missing values > 60% :   6\n",
      "Columns having missing values > 70% :   5\n",
      "Columns having missing values > 80% :   4\n",
      "Columns having missing values > 90% :   4\n"
     ]
    }
   ],
   "source": [
    "# Numbers of features in %\n",
    "print(\"Columns having missing values > 0% :  \", len(missing_azdias_prcnt[missing_azdias_prcnt > 0].index))\n",
    "print(\"Columns having missing values > 10% :  \", len(missing_azdias_prcnt[missing_azdias_prcnt > .10].index))\n",
    "print(\"Columns having missing values > 20% :  \", len(missing_azdias_prcnt[missing_azdias_prcnt > .20].index))\n",
    "print(\"Columns having missing values > 30% :  \", len(missing_azdias_prcnt[missing_azdias_prcnt > .30].index))\n",
    "print(\"Columns having missing values > 40% :  \", len(missing_azdias_prcnt[missing_azdias_prcnt > .40].index))\n",
    "print(\"Columns having missing values > 50% :  \", len(missing_azdias_prcnt[missing_azdias_prcnt > .50].index))\n",
    "print(\"Columns having missing values > 60% :  \", len(missing_azdias_prcnt[missing_azdias_prcnt > .60].index))\n",
    "print(\"Columns having missing values > 70% :  \", len(missing_azdias_prcnt[missing_azdias_prcnt > .70].index))\n",
    "print(\"Columns having missing values > 80% :  \", len(missing_azdias_prcnt[missing_azdias_prcnt > .80].index))\n",
    "print(\"Columns having missing values > 90% :  \", len(missing_azdias_prcnt[missing_azdias_prcnt > .90].index))"
   ]
  },
  {
   "cell_type": "code",
   "execution_count": 9,
   "metadata": {},
   "outputs": [
    {
     "data": {
      "text/plain": [
       "Text(0.5,0,'# of missing values')"
      ]
     },
     "execution_count": 9,
     "metadata": {},
     "output_type": "execute_result"
    },
    {
     "data": {
      "image/png": "[encoded data removed]",
      "text/plain": [
       "<matplotlib.figure.Figure at 0x7f0c67f982e8>"
      ]
     },
     "metadata": {
      "needs_background": "light"
     },
     "output_type": "display_data"
    }
   ],
   "source": [
    "row_nans = azdias.isnull().sum(axis=1)\n",
    "plt.hist(row_nans, bins = np.arange(-0.5, row_nans.max()+1, 1))\n",
    "plt.yticks(np.arange(0,300000+100000,100000),['0','100k','200k','300k'])\n",
    "plt.ylabel('# of data points')\n",
    "plt.xlabel('# of missing values')"
   ]
  },
  {
   "cell_type": "code",
   "execution_count": 10,
   "metadata": {},
   "outputs": [
    {
     "data": {
      "text/plain": [
       "Text(0.5,0,'# of missing values')"
      ]
     },
     "execution_count": 10,
     "metadata": {},
     "output_type": "execute_result"
    },
    {
     "data": {
      "image/png": "[encoded data removed]",
      "text/plain": [
       "<matplotlib.figure.Figure at 0x7f0c659c9198>"
      ]
     },
     "metadata": {
      "needs_background": "light"
     },
     "output_type": "display_data"
    }
   ],
   "source": [
    "row_nans = azdias[azdias.isnull().sum(axis=1) > 0].isnull().sum(axis=1)\n",
    "plt.hist(row_nans, bins = np.arange(-0.5,row_nans.max()+1,1))\n",
    "plt.ylabel('# of data points')\n",
    "plt.xlabel('# of missing values')"
   ]
  },
  {
   "cell_type": "markdown",
   "metadata": {},
   "source": [
    "# Data Preprocessing"
   ]
  },
  {
   "cell_type": "code",
   "execution_count": 11,
   "metadata": {},
   "outputs": [],
   "source": [
    "def data_preprocess(df, for_clustering, df_name=None):\n",
    "    \"\"\"Preform data preprocessing steps such as missing value handeling and Feature Engineering for clustering and furter\n",
    "    analysis of this project.\n",
    "    \n",
    "    Params:\n",
    "    df: The DataFrame\n",
    "    for_clustering: True\n",
    "    df_name: The name of the DataFramne.\n",
    "    \n",
    "    Return: Trimmed and cleaned DataFramne.\n",
    "    \"\"\"\n",
    "    \n",
    "    if for_clustering:\n",
    "        if df_name == 'azdias':\n",
    "            df = df[df.isnull().sum(axis=1) <= 16].reset_index(drop=True)\n",
    "        elif df_name == 'customers':            \n",
    "            df.drop(columns=['CUSTOMER_GROUP', 'ONLINE_PURCHASE', 'PRODUCT_GROUP'], inplace=True)\n",
    "        \n",
    "    #column_nans = df.isnull().mean()\n",
    "    drop_cols = ['ALTER_KIND1', 'ALTER_KIND2', 'ALTER_KIND3', 'ALTER_KIND4', 'EXTSEL992','KK_KUNDENTYP']\n",
    "    \n",
    "    df = df.drop(drop_cols,axis=1)\n",
    "    df = df.drop(['EINGEFUEGT_AM'],axis=1)\n",
    "    df = df.drop(['D19_LETZTER_KAUF_BRANCHE'],axis=1)\n",
    "\n",
    "\n",
    "    # find correlation matrix    \n",
    "    corr_matrix = df.corr().abs()\n",
    "    upper_limit = corr_matrix.where(np.triu(np.ones(corr_matrix.shape), k=1).astype(np.bool))\n",
    "    # identify columns to drop based on threshold limit\n",
    "    drop_columns = [column for column in upper_limit.columns if any(upper_limit[column] > .7)]\n",
    "    # drop columns from df\n",
    "    df = df.drop(drop_columns, axis=1)\n",
    "    print('shape after corr', df.shape)\n",
    "\n",
    "\n",
    "    # we need to fill missing values here. We will fill missing values with -1 indicating unknown as in the description.\n",
    "    df[['CAMEO_DEUG_2015','CAMEO_INTL_2015']] = df[['CAMEO_DEUG_2015','CAMEO_INTL_2015']].replace(['X','XX'],-1)\n",
    "    df[['CAMEO_DEUG_2015','CAMEO_INTL_2015']] = df[['CAMEO_DEUG_2015','CAMEO_INTL_2015']].fillna(-1)\n",
    "    df[['CAMEO_DEUG_2015','CAMEO_INTL_2015']] = df[['CAMEO_DEUG_2015','CAMEO_INTL_2015']].astype(int)\n",
    "    df[['CAMEO_DEU_2015','OST_WEST_KZ']]=df[['CAMEO_DEU_2015','OST_WEST_KZ']].fillna(-1)\n",
    "\n",
    "\n",
    "\n",
    "    # fillna with 9 for fields that has 9 marked as unknown\n",
    "    df[df.columns[(df==9).any()]] = df[df.columns[(df==9).any()]].fillna(9)\n",
    "\n",
    "    # fillna with 0 for fields that has 0 marked as unknown\n",
    "    df[df.columns[(df==0).any()]] = df[df.columns[(df==0).any()]].fillna(0)\n",
    "\n",
    "    # fillna with -1 for fields that has 0 marked as unknown\n",
    "    df[df.columns[(df==-1).any()]] = df[df.columns[(df==-1).any()]].fillna(-1)\n",
    "\n",
    "\n",
    "    \n",
    "    #print('col name before: ', df.columns)\n",
    "    #with  all null data now handled, we should focus on getting objects/categorical variables to numbers via one hot encoding\n",
    "    df = pd.get_dummies(df)\n",
    "    #print('col name after: ', df.columns)\n",
    "    print('shape after one-hot', df.shape)\n",
    "    \n",
    "    df_columns = list(df.columns.values)\n",
    "\n",
    "    # impute nans using mode value\n",
    "    imputer = Imputer(missing_values='NaN',strategy='most_frequent',axis=0)\n",
    "    df = imputer.fit_transform(df)\n",
    "    df = pd.DataFrame(df)\n",
    "    #print('imputed dataframe: ', df.head(5))\n",
    "    print('shape after impute', df.shape)\n",
    "    \n",
    "    \n",
    "    \n",
    "    # convert to int\n",
    "    df = df.astype(int)\n",
    "\n",
    "\n",
    "    # detect and exclude outliers in dataframe\n",
    "    # as mentioned in https://stackoverflow.com/questions/23199796/detect-and-exclude-outliers-in-pandas-data-frame\n",
    "    #  remove all rows that have outliers in at least one column   \n",
    "    if for_clustering:\n",
    "        print('inside outliers if')\n",
    "        df = df[(np.abs(stats.zscore(df)) < 6).all(axis=1)] \n",
    "        print('shape before scaling', df.shape)\n",
    "    # scale the data\n",
    "    scale = StandardScaler(copy=False)\n",
    "    scaled = scale.fit_transform(df)\n",
    "    df = pd.DataFrame(scaled,columns= df_columns)\n",
    "    print('shape after scaling', df.shape)\n",
    "    #else:\n",
    "    #    df.columns = df_columns\n",
    "        \n",
    "    df = df.set_index('LNR')\n",
    "    return df\n"
   ]
  },
  {
   "cell_type": "markdown",
   "metadata": {},
   "source": [
    "### Clean azdias- General Population dataset"
   ]
  },
  {
   "cell_type": "code",
   "execution_count": 12,
   "metadata": {},
   "outputs": [
    {
     "name": "stdout",
     "output_type": "stream",
     "text": [
      "shape after corr (733227, 238)\n",
      "shape after one-hot (733227, 284)\n",
      "shape after impute (733227, 284)\n",
      "inside outliers if\n",
      "shape before scaling (415405, 284)\n",
      "shape after scaling (415405, 284)\n",
      "(415405, 283)\n",
      "          AGER_TYP  AKT_DAT_KL  ALTER_HH  ALTERSKATEGORIE_FEIN  \\\n",
      "LNR                                                              \n",
      "1.044527 -0.549413    1.155132  0.831893              0.911269   \n",
      "1.044589 -0.549413   -1.017213  1.223909              0.285868   \n",
      "1.044600  2.747309   -1.017213 -0.082810             -0.547999   \n",
      "1.044616 -0.549413    1.155132 -1.389529             -0.756466   \n",
      "1.044666 -0.549413   -1.017213  0.439878              0.285868   \n",
      "\n",
      "          ANZ_HAUSHALTE_AKTIV  ANZ_HH_TITEL  ANZ_KINDER  ANZ_PERSONEN  \\\n",
      "LNR                                                                     \n",
      "1.044527             0.170790     -0.142864   -0.281792     -0.610158   \n",
      "1.044589            -0.488492     -0.142864   -0.281792      2.240974   \n",
      "1.044600            -0.300126     -0.142864   -0.281792     -0.610158   \n",
      "1.044616            -0.394309     -0.142864   -0.281792     -0.610158   \n",
      "1.044666            -0.205943     -0.142864   -0.281792     -0.610158   \n",
      "\n",
      "          ANZ_TITEL    ARBEIT      ...        CAMEO_DEU_2015_8C  \\\n",
      "LNR                                ...                            \n",
      "1.044527        0.0 -0.255250      ...                -0.263318   \n",
      "1.044589        0.0  0.716291      ...                -0.263318   \n",
      "1.044600        0.0 -1.226790      ...                 3.797696   \n",
      "1.044616        0.0  0.716291      ...                -0.263318   \n",
      "1.044666        0.0 -1.226790      ...                -0.263318   \n",
      "\n",
      "          CAMEO_DEU_2015_8D  CAMEO_DEU_2015_9A  CAMEO_DEU_2015_9B  \\\n",
      "LNR                                                                 \n",
      "1.044527                0.0                0.0          -0.243513   \n",
      "1.044589                0.0                0.0          -0.243513   \n",
      "1.044600                0.0                0.0          -0.243513   \n",
      "1.044616                0.0                0.0          -0.243513   \n",
      "1.044666                0.0                0.0          -0.243513   \n",
      "\n",
      "          CAMEO_DEU_2015_9C  CAMEO_DEU_2015_9D  CAMEO_DEU_2015_9E  \\\n",
      "LNR                                                                 \n",
      "1.044527          -0.228966          -0.248766                0.0   \n",
      "1.044589          -0.228966          -0.248766                0.0   \n",
      "1.044600          -0.228966          -0.248766                0.0   \n",
      "1.044616          -0.228966          -0.248766                0.0   \n",
      "1.044666          -0.228966          -0.248766                0.0   \n",
      "\n",
      "          CAMEO_DEU_2015_XX  OST_WEST_KZ_O  OST_WEST_KZ_W  \n",
      "LNR                                                        \n",
      "1.044527                0.0      -0.509642       0.509642  \n",
      "1.044589                0.0      -0.509642       0.509642  \n",
      "1.044600                0.0      -0.509642       0.509642  \n",
      "1.044616                0.0      -0.509642       0.509642  \n",
      "1.044666                0.0      -0.509642       0.509642  \n",
      "\n",
      "[5 rows x 283 columns]\n"
     ]
    }
   ],
   "source": [
    "azdias = data_preprocess(azdias, True, 'azdias')\n",
    "print(azdias.shape)\n",
    "print(azdias.head(5))"
   ]
  },
  {
   "cell_type": "markdown",
   "metadata": {},
   "source": [
    "### Clean customers dataset"
   ]
  },
  {
   "cell_type": "code",
   "execution_count": 13,
   "metadata": {},
   "outputs": [
    {
     "name": "stdout",
     "output_type": "stream",
     "text": [
      "shape after corr (191652, 256)\n",
      "shape after one-hot (191652, 303)\n",
      "shape after impute (191652, 303)\n",
      "inside outliers if\n",
      "shape before scaling (100341, 303)\n",
      "shape after scaling (100341, 303)\n",
      "(100341, 302)\n",
      "           AGER_TYP  AKT_DAT_KL  ALTER_HH  ALTERSKATEGORIE_FEIN  \\\n",
      "LNR                                                               \n",
      "-1.556361 -0.738505    1.010105  0.168897             -0.209002   \n",
      " 0.872952  0.777112   -1.037635 -0.468300             -0.545546   \n",
      " 0.873622  0.777112   -1.037635 -0.043502             -0.209002   \n",
      " 0.118344  0.777112   -1.037635  2.080488              1.137176   \n",
      " 0.118561  0.777112   -1.037635 -0.043502              0.127543   \n",
      "\n",
      "           ANZ_HAUSHALTE_AKTIV  ANZ_HH_TITEL  ANZ_KINDER  ANZ_PERSONEN  \\\n",
      "LNR                                                                      \n",
      "-1.556361             0.808794      0.992832   -0.193253     -0.686881   \n",
      " 0.872952            -1.330334      0.992832   -0.193253     -1.545501   \n",
      " 0.873622            -1.092653     -1.008534   -0.193253     -0.973088   \n",
      " 0.118344            -1.092653     -1.008534   -0.193253     -0.686881   \n",
      " 0.118561            -1.092653     -1.008534   -0.193253     -1.259294   \n",
      "\n",
      "           ANZ_TITEL    ARBEIT      ...        CAMEO_DEU_2015_8D  \\\n",
      "LNR                                 ...                            \n",
      "-1.556361        0.0  0.985621      ...                      0.0   \n",
      " 0.872952        0.0 -1.487406      ...                      0.0   \n",
      " 0.873622        0.0 -0.869149      ...                      0.0   \n",
      " 0.118344        0.0 -0.869149      ...                      0.0   \n",
      " 0.118561        0.0 -1.178277      ...                      0.0   \n",
      "\n",
      "           CAMEO_DEU_2015_9A  CAMEO_DEU_2015_9B  CAMEO_DEU_2015_9C  \\\n",
      "LNR                                                                  \n",
      "-1.556361                0.0                0.0                0.0   \n",
      " 0.872952                0.0                0.0                0.0   \n",
      " 0.873622                0.0                0.0                0.0   \n",
      " 0.118344                0.0                0.0                0.0   \n",
      " 0.118561                0.0                0.0                0.0   \n",
      "\n",
      "           CAMEO_DEU_2015_9D  CAMEO_DEU_2015_9E  CAMEO_DEU_2015_XX  \\\n",
      "LNR                                                                  \n",
      "-1.556361                0.0                0.0                0.0   \n",
      " 0.872952                0.0                0.0                0.0   \n",
      " 0.873622                0.0                0.0                0.0   \n",
      " 0.118344                0.0                0.0                0.0   \n",
      " 0.118561                0.0                0.0                0.0   \n",
      "\n",
      "           OST_WEST_KZ_-1  OST_WEST_KZ_O  OST_WEST_KZ_W  \n",
      "LNR                                                      \n",
      "-1.556361        1.013798      -0.164221      -0.961907  \n",
      " 0.872952       -0.986389      -0.164221       1.039601  \n",
      " 0.873622       -0.986389      -0.164221       1.039601  \n",
      " 0.118344       -0.986389      -0.164221       1.039601  \n",
      " 0.118561       -0.986389      -0.164221       1.039601  \n",
      "\n",
      "[5 rows x 302 columns]\n"
     ]
    }
   ],
   "source": [
    "customers = data_preprocess(customers, True, 'customers')\n",
    "print(customers.shape)\n",
    "print(customers.head(5))"
   ]
  },
  {
   "cell_type": "markdown",
   "metadata": {},
   "source": [
    "## Part 1: Customer Segmentation Report\n",
    "\n",
    "The main bulk of your analysis will come in this part of the project. Here, you should use unsupervised learning techniques to describe the relationship between the demographics of the company's existing customers and the general population of Germany. By the end of this part, you should be able to describe parts of the general population that are more likely to be part of the mail-order company's main customer base, and which parts of the general population are less so."
   ]
  },
  {
   "cell_type": "markdown",
   "metadata": {},
   "source": [
    "Now we will be using Principal Component Analysis to reduce the dimension of out dataset."
   ]
  },
  {
   "cell_type": "markdown",
   "metadata": {},
   "source": [
    "### Choosing the number of components¶\n"
   ]
  },
  {
   "cell_type": "code",
   "execution_count": 14,
   "metadata": {},
   "outputs": [
    {
     "data": {
      "image/png": "[encoded data removed]",
      "text/plain": [
       "<matplotlib.figure.Figure at 0x7f0c65cfeeb8>"
      ]
     },
     "metadata": {
      "needs_background": "light"
     },
     "output_type": "display_data"
    }
   ],
   "source": [
    "pca = PCA().fit(azdias)\n",
    "plt.figure(figsize=(20,10))\n",
    "plt.plot(np.cumsum(pca.explained_variance_ratio_))\n",
    "plt.xlabel('number of components')\n",
    "plt.ylabel('cumulative explained variance')\n",
    "plt.show()"
   ]
  },
  {
   "cell_type": "markdown",
   "metadata": {},
   "source": [
    "### Components from above PCA "
   ]
  },
  {
   "cell_type": "code",
   "execution_count": 15,
   "metadata": {},
   "outputs": [],
   "source": [
    "def weights(n):\n",
    "    \"\"\"Print the principle components.\n",
    "    n: Number of principle components\n",
    "    \"\"\"\n",
    "    components = pd.DataFrame(np.round(pca.components_[n-1:n], 4), columns=azdias.keys())\n",
    "    components.index = ['Weights']\n",
    "    components = components.sort_values(by = 'Weights', axis = 1, ascending = False)\n",
    "    components = components.T\n",
    "    print(components)\n",
    "    return components"
   ]
  },
  {
   "cell_type": "markdown",
   "metadata": {},
   "source": [
    "### Now we will reduce the dataset using PCA components to make our data high variance. We will choose 220 components which explains ~90% of the variance "
   ]
  },
  {
   "cell_type": "code",
   "execution_count": 16,
   "metadata": {},
   "outputs": [],
   "source": [
    "def reduce_data(df, n=220):\n",
    "    \"\"\"Generate reduced dataset using PCA.\n",
    "    df: Dataset \n",
    "    n: Number of components\n",
    "    \"\"\"\n",
    "    pca = PCA(n_components=n).fit(df)\n",
    "    reduced_data = pca.transform(df)\n",
    "    reduced_data = pd.DataFrame(reduced_data)\n",
    "    print(pca.explained_variance_ratio_.sum())\n",
    "    return reduced_data"
   ]
  },
  {
   "cell_type": "code",
   "execution_count": 17,
   "metadata": {},
   "outputs": [
    {
     "name": "stdout",
     "output_type": "stream",
     "text": [
      "0.986969522593\n",
      "0.99735816977\n"
     ]
    }
   ],
   "source": [
    "reduced_azdias = reduce_data(azdias)\n",
    "reduced_customers = reduce_data(customers)"
   ]
  },
  {
   "cell_type": "code",
   "execution_count": 18,
   "metadata": {},
   "outputs": [
    {
     "data": {
      "text/plain": [
       "((415405, 220), (100341, 220))"
      ]
     },
     "execution_count": 18,
     "metadata": {},
     "output_type": "execute_result"
    }
   ],
   "source": [
    "reduced_azdias.shape, reduced_customers.shape"
   ]
  },
  {
   "cell_type": "markdown",
   "metadata": {},
   "source": [
    "### With reduced dimension, now will do clustering and to choose the number of cluster use elbow method."
   ]
  },
  {
   "cell_type": "code",
   "execution_count": 19,
   "metadata": {},
   "outputs": [],
   "source": [
    "#def score(data, k):\n",
    "    \n",
    "#    kmeans_k = KMeans(k)\n",
    "#    model_k = kmeans_k.fit(data)\n",
    "#    return abs(model_k.score(data))\n",
    "    "
   ]
  },
  {
   "cell_type": "code",
   "execution_count": 20,
   "metadata": {},
   "outputs": [
    {
     "data": {
      "image/png": "[encoded data removed]",
      "text/plain": [
       "<matplotlib.figure.Figure at 0x7f0c65f2a1d0>"
      ]
     },
     "metadata": {
      "needs_background": "light"
     },
     "output_type": "display_data"
    }
   ],
   "source": [
    "# Compute the inertia\n",
    "inertias = []\n",
    "\n",
    "for i in range(2, 51):\n",
    "    km = KMeans(n_clusters=i, random_state=1000)\n",
    "    km.fit(reduced_azdias.sample(20000))\n",
    "    inertias.append(km.inertia_)\n",
    "\n",
    "# Show the plot inertia vs. no. clusters\n",
    "fig, ax = plt.subplots(figsize=(18, 8))\n",
    "\n",
    "ax.plot(np.arange(2, 51, 1), inertias)\n",
    "ax.set_xlabel('Number of clusters', fontsize=14)\n",
    "ax.set_ylabel('Inertia', fontsize=14)\n",
    "ax.set_xticks(np.arange(2, 51, 2))\n",
    "\n",
    "plt.show()"
   ]
  },
  {
   "cell_type": "code",
   "execution_count": 21,
   "metadata": {},
   "outputs": [],
   "source": [
    "kmeans_k = KMeans(12)\n",
    "model_k = kmeans_k.fit(reduced_azdias)\n",
    "prediction_azdias = model_k.predict(reduced_azdias)\n",
    "azdias_clustered = pd.DataFrame(prediction_azdias, columns = ['Cluster'])\n",
    "azdias_clustered.to_pickle('azdias_clusters')"
   ]
  },
  {
   "cell_type": "code",
   "execution_count": 22,
   "metadata": {},
   "outputs": [],
   "source": [
    "prediction_customers = model_k.predict(reduced_customers)\n",
    "customers_clustered = pd.DataFrame(prediction_customers, columns = ['Cluster'])\n",
    "customers_clustered.to_pickle('customers_clusters')"
   ]
  },
  {
   "cell_type": "markdown",
   "metadata": {},
   "source": [
    "### Comparison between clusters of general population and customer data"
   ]
  },
  {
   "cell_type": "code",
   "execution_count": 23,
   "metadata": {},
   "outputs": [
    {
     "data": {
      "text/html": [
       "<div>\n",
       "<style scoped>\n",
       "    .dataframe tbody tr th:only-of-type {\n",
       "        vertical-align: middle;\n",
       "    }\n",
       "\n",
       "    .dataframe tbody tr th {\n",
       "        vertical-align: top;\n",
       "    }\n",
       "\n",
       "    .dataframe thead th {\n",
       "        text-align: right;\n",
       "    }\n",
       "</style>\n",
       "<table border=\"1\" class=\"dataframe\">\n",
       "  <thead>\n",
       "    <tr style=\"text-align: right;\">\n",
       "      <th></th>\n",
       "      <th>cluster</th>\n",
       "      <th>population</th>\n",
       "      <th>customer</th>\n",
       "      <th>difference</th>\n",
       "    </tr>\n",
       "  </thead>\n",
       "  <tbody>\n",
       "    <tr>\n",
       "      <th>0</th>\n",
       "      <td>0</td>\n",
       "      <td>34402</td>\n",
       "      <td>172</td>\n",
       "      <td>-8.110141</td>\n",
       "    </tr>\n",
       "    <tr>\n",
       "      <th>1</th>\n",
       "      <td>1</td>\n",
       "      <td>26325</td>\n",
       "      <td>1048</td>\n",
       "      <td>-5.292751</td>\n",
       "    </tr>\n",
       "    <tr>\n",
       "      <th>2</th>\n",
       "      <td>2</td>\n",
       "      <td>31274</td>\n",
       "      <td>46420</td>\n",
       "      <td>38.733689</td>\n",
       "    </tr>\n",
       "    <tr>\n",
       "      <th>3</th>\n",
       "      <td>3</td>\n",
       "      <td>12361</td>\n",
       "      <td>4586</td>\n",
       "      <td>1.594765</td>\n",
       "    </tr>\n",
       "    <tr>\n",
       "      <th>4</th>\n",
       "      <td>4</td>\n",
       "      <td>42279</td>\n",
       "      <td>2684</td>\n",
       "      <td>-7.502900</td>\n",
       "    </tr>\n",
       "    <tr>\n",
       "      <th>5</th>\n",
       "      <td>5</td>\n",
       "      <td>15426</td>\n",
       "      <td>26</td>\n",
       "      <td>-3.687573</td>\n",
       "    </tr>\n",
       "    <tr>\n",
       "      <th>6</th>\n",
       "      <td>6</td>\n",
       "      <td>43506</td>\n",
       "      <td>12489</td>\n",
       "      <td>1.973405</td>\n",
       "    </tr>\n",
       "    <tr>\n",
       "      <th>7</th>\n",
       "      <td>7</td>\n",
       "      <td>37356</td>\n",
       "      <td>21836</td>\n",
       "      <td>12.769122</td>\n",
       "    </tr>\n",
       "    <tr>\n",
       "      <th>8</th>\n",
       "      <td>8</td>\n",
       "      <td>52519</td>\n",
       "      <td>33</td>\n",
       "      <td>-12.609955</td>\n",
       "    </tr>\n",
       "    <tr>\n",
       "      <th>9</th>\n",
       "      <td>9</td>\n",
       "      <td>36354</td>\n",
       "      <td>9924</td>\n",
       "      <td>1.138815</td>\n",
       "    </tr>\n",
       "    <tr>\n",
       "      <th>10</th>\n",
       "      <td>10</td>\n",
       "      <td>49028</td>\n",
       "      <td>439</td>\n",
       "      <td>-11.364950</td>\n",
       "    </tr>\n",
       "    <tr>\n",
       "      <th>11</th>\n",
       "      <td>11</td>\n",
       "      <td>34575</td>\n",
       "      <td>684</td>\n",
       "      <td>-7.641527</td>\n",
       "    </tr>\n",
       "  </tbody>\n",
       "</table>\n",
       "</div>"
      ],
      "text/plain": [
       "    cluster  population  customer  difference\n",
       "0         0       34402       172   -8.110141\n",
       "1         1       26325      1048   -5.292751\n",
       "2         2       31274     46420   38.733689\n",
       "3         3       12361      4586    1.594765\n",
       "4         4       42279      2684   -7.502900\n",
       "5         5       15426        26   -3.687573\n",
       "6         6       43506     12489    1.973405\n",
       "7         7       37356     21836   12.769122\n",
       "8         8       52519        33  -12.609955\n",
       "9         9       36354      9924    1.138815\n",
       "10       10       49028       439  -11.364950\n",
       "11       11       34575       684   -7.641527"
      ]
     },
     "execution_count": 23,
     "metadata": {},
     "output_type": "execute_result"
    }
   ],
   "source": [
    "population_clusters = pd.Series(prediction_azdias)\n",
    "pc = population_clusters.value_counts().sort_index()\n",
    "customer_clusters = pd.Series(prediction_customers)\n",
    "cc = customer_clusters.value_counts().sort_index()\n",
    "df_stat = pd.concat([pc, cc], axis = 1).reset_index()\n",
    "df_stat.columns = ['cluster', 'population', 'customer']\n",
    "df_stat['difference'] = (df_stat.customer / df_stat.customer.sum()*100) - (df_stat.population / df_stat.population.sum()*100)\n",
    "df_stat"
   ]
  },
  {
   "cell_type": "markdown",
   "metadata": {},
   "source": [
    "### plot the comparison percentage"
   ]
  },
  {
   "cell_type": "code",
   "execution_count": 24,
   "metadata": {},
   "outputs": [
    {
     "data": {
      "image/png": "[encoded data removed]",
      "text/plain": [
       "<matplotlib.figure.Figure at 0x7f0c655fccf8>"
      ]
     },
     "metadata": {
      "needs_background": "light"
     },
     "output_type": "display_data"
    }
   ],
   "source": [
    "df_stat['pop_percent'] = (df_stat['population']/df_stat['population'].sum()*100).round(2)\n",
    "df_stat['cust_percent'] = (df_stat['customer']/df_stat['customer'].sum()*100).round(2)\n",
    "\n",
    "\n",
    "fig = plt.figure(figsize=(12,5))\n",
    "\n",
    "ax = fig.add_subplot(111)\n",
    "ax = df_stat['pop_percent'].plot(x=df_stat['cluster'],width=-0.3,align='edge',color='blue',kind='bar',position=0)\n",
    "ax = df_stat['cust_percent'].plot(kind='bar',color='orange',width = 0.3, align='edge',position=1)\n",
    "ax.set_xlabel('Clusters', fontsize=15) \n",
    "ax.set_ylabel('Ratio %', fontsize=15)\n",
    "ax.xaxis.set(ticklabels=range(20))\n",
    "ax.tick_params(axis = 'x', which = 'major', labelsize = 13)\n",
    "ax.margins(x=0.5,y=0.1)\n",
    "\n",
    "plt.legend(('Gen Population', 'Customer'),fontsize=15)\n",
    "plt.title(('Ratio of Gen Population Vs Customer segments as % of total per cluster'))\n",
    "plt.show()"
   ]
  },
  {
   "cell_type": "code",
   "execution_count": 25,
   "metadata": {},
   "outputs": [],
   "source": [
    "\n",
    "# Show Highest Positive and Negative weights when a PComponent and Weight is passed\n",
    "def pca_weights(pc,weight_num):\n",
    "    \n",
    "    ratio = pd.DataFrame(pca.explained_variance_ratio_,columns = ['EXPLAINED_VARIANCE'])\n",
    "    ratio = ratio.round(3)\n",
    "    weights = pd.DataFrame(pca.components_, columns = azdias.columns.values)\n",
    "    weights = weights.round(3)    \n",
    "    \n",
    "    result = pd.concat([ratio, weights], axis = 1,  join_axes=[ratio.index])\n",
    "    result[:5]\n",
    "    print(\"Principal Component: \", (pc))    \n",
    "    print('\\n')\n",
    "    print(\"Highest Positive weights:\")\n",
    "    print(result.iloc[(pc)-1].sort_values(ascending=False)[:weight_num])\n",
    "    print('\\n')\n",
    "    print(\"Negative weights:\")\n",
    "    print(result.iloc[(pc)-1].sort_values()[:weight_num])"
   ]
  },
  {
   "cell_type": "code",
   "execution_count": 26,
   "metadata": {},
   "outputs": [
    {
     "name": "stdout",
     "output_type": "stream",
     "text": [
      "Principal Component:  5\n",
      "\n",
      "\n",
      "Highest Positive weights:\n",
      "KBA13_KMH_210          0.223\n",
      "OST_WEST_KZ_O          0.187\n",
      "KBA13_CCM_1401_2500    0.183\n",
      "KBA13_VORB_0           0.135\n",
      "KBA13_CCM_2000         0.134\n",
      "Name: 4, dtype: float64\n",
      "\n",
      "\n",
      "Negative weights:\n",
      "KBA13_KW_0_60         -0.239\n",
      "KBA13_KMH_180         -0.196\n",
      "KBA13_CCM_0_1400      -0.194\n",
      "OST_WEST_KZ_W         -0.187\n",
      "KBA13_SEG_MINIWAGEN   -0.159\n",
      "Name: 4, dtype: float64\n"
     ]
    }
   ],
   "source": [
    "# Show highest positive and negative weights for 5 cluster (over representation of Customer)\n",
    "pca_weights(5,5)"
   ]
  },
  {
   "cell_type": "code",
   "execution_count": 27,
   "metadata": {},
   "outputs": [
    {
     "name": "stdout",
     "output_type": "stream",
     "text": [
      "Principal Component:  10\n",
      "\n",
      "\n",
      "Highest Positive weights:\n",
      "KBA05_MAXSEG     0.272\n",
      "KBA05_KRSOBER    0.208\n",
      "KBA05_CCM3       0.186\n",
      "KBA05_HERST1     0.165\n",
      "KBA05_KW2        0.163\n",
      "Name: 9, dtype: float64\n",
      "\n",
      "\n",
      "Negative weights:\n",
      "KBA05_CCM1        -0.235\n",
      "KBA05_MODTEMP     -0.210\n",
      "KBA05_HERST3      -0.162\n",
      "OST_WEST_KZ_W     -0.148\n",
      "KBA05_HERSTTEMP   -0.137\n",
      "Name: 9, dtype: float64\n"
     ]
    }
   ],
   "source": [
    "# Show lowest positive and negative weights for 10 cluster (under representation of Customer)\n",
    "pca_weights(10,5)"
   ]
  },
  {
   "cell_type": "markdown",
   "metadata": {},
   "source": [
    "## Part 2: Supervised Learning Model\n",
    "\n",
    "Now that you've found which parts of the population are more likely to be customers of the mail-order company, it's time to build a prediction model. Each of the rows in the \"MAILOUT\" data files represents an individual that was targeted for a mailout campaign. Ideally, we should be able to use the demographic information from each individual to decide whether or not it will be worth it to include that person in the campaign.\n",
    "\n",
    "The \"MAILOUT\" data has been split into two approximately equal parts, each with almost 43 000 data rows. In this part, you can verify your model with the \"TRAIN\" partition, which includes a column, \"RESPONSE\", that states whether or not a person became a customer of the company following the campaign. In the next part, you'll need to create predictions on the \"TEST\" partition, where the \"RESPONSE\" column has been withheld."
   ]
  },
  {
   "cell_type": "code",
   "execution_count": 29,
   "metadata": {},
   "outputs": [
    {
     "name": "stderr",
     "output_type": "stream",
     "text": [
      "/opt/conda/lib/python3.6/site-packages/IPython/core/interactiveshell.py:2785: DtypeWarning: Columns (18,19) have mixed types. Specify dtype option on import or set low_memory=False.\n",
      "  interactivity=interactivity, compiler=compiler, result=result)\n"
     ]
    }
   ],
   "source": [
    "mailout_train = pd.read_csv('../../data/Term2/capstone/arvato_data/Udacity_MAILOUT_052018_TRAIN.csv', sep=';')"
   ]
  },
  {
   "cell_type": "code",
   "execution_count": 30,
   "metadata": {},
   "outputs": [],
   "source": [
    "X = mailout_train.drop('RESPONSE', axis = 1)\n",
    "y = mailout_train['RESPONSE']"
   ]
  },
  {
   "cell_type": "code",
   "execution_count": 31,
   "metadata": {},
   "outputs": [
    {
     "name": "stdout",
     "output_type": "stream",
     "text": [
      "shape after corr (42962, 253)\n",
      "shape after one-hot (42962, 300)\n",
      "shape after impute (42962, 300)\n",
      "shape after scaling (42962, 300)\n"
     ]
    }
   ],
   "source": [
    "#Preprocess data \n",
    "df_mailout_train = data_preprocess(X, False)"
   ]
  },
  {
   "cell_type": "code",
   "execution_count": 32,
   "metadata": {},
   "outputs": [
    {
     "data": {
      "text/html": [
       "<div>\n",
       "<style scoped>\n",
       "    .dataframe tbody tr th:only-of-type {\n",
       "        vertical-align: middle;\n",
       "    }\n",
       "\n",
       "    .dataframe tbody tr th {\n",
       "        vertical-align: top;\n",
       "    }\n",
       "\n",
       "    .dataframe thead th {\n",
       "        text-align: right;\n",
       "    }\n",
       "</style>\n",
       "<table border=\"1\" class=\"dataframe\">\n",
       "  <thead>\n",
       "    <tr style=\"text-align: right;\">\n",
       "      <th></th>\n",
       "      <th>AGER_TYP</th>\n",
       "      <th>AKT_DAT_KL</th>\n",
       "      <th>ALTER_HH</th>\n",
       "      <th>ALTERSKATEGORIE_FEIN</th>\n",
       "      <th>ANZ_HAUSHALTE_AKTIV</th>\n",
       "      <th>ANZ_HH_TITEL</th>\n",
       "      <th>ANZ_KINDER</th>\n",
       "      <th>ANZ_PERSONEN</th>\n",
       "      <th>ANZ_TITEL</th>\n",
       "      <th>ARBEIT</th>\n",
       "      <th>...</th>\n",
       "      <th>CAMEO_DEU_2015_8D</th>\n",
       "      <th>CAMEO_DEU_2015_9A</th>\n",
       "      <th>CAMEO_DEU_2015_9B</th>\n",
       "      <th>CAMEO_DEU_2015_9C</th>\n",
       "      <th>CAMEO_DEU_2015_9D</th>\n",
       "      <th>CAMEO_DEU_2015_9E</th>\n",
       "      <th>CAMEO_DEU_2015_XX</th>\n",
       "      <th>OST_WEST_KZ_-1</th>\n",
       "      <th>OST_WEST_KZ_O</th>\n",
       "      <th>OST_WEST_KZ_W</th>\n",
       "    </tr>\n",
       "    <tr>\n",
       "      <th>LNR</th>\n",
       "      <th></th>\n",
       "      <th></th>\n",
       "      <th></th>\n",
       "      <th></th>\n",
       "      <th></th>\n",
       "      <th></th>\n",
       "      <th></th>\n",
       "      <th></th>\n",
       "      <th></th>\n",
       "      <th></th>\n",
       "      <th></th>\n",
       "      <th></th>\n",
       "      <th></th>\n",
       "      <th></th>\n",
       "      <th></th>\n",
       "      <th></th>\n",
       "      <th></th>\n",
       "      <th></th>\n",
       "      <th></th>\n",
       "      <th></th>\n",
       "      <th></th>\n",
       "    </tr>\n",
       "  </thead>\n",
       "  <tbody>\n",
       "    <tr>\n",
       "      <th>-1.656309</th>\n",
       "      <td>1.031262</td>\n",
       "      <td>-0.545883</td>\n",
       "      <td>-0.371726</td>\n",
       "      <td>-0.428455</td>\n",
       "      <td>0.573402</td>\n",
       "      <td>-0.499090</td>\n",
       "      <td>-0.204857</td>\n",
       "      <td>-0.752038</td>\n",
       "      <td>-0.083831</td>\n",
       "      <td>-0.459891</td>\n",
       "      <td>...</td>\n",
       "      <td>-0.167172</td>\n",
       "      <td>-0.104604</td>\n",
       "      <td>-0.110149</td>\n",
       "      <td>-0.100902</td>\n",
       "      <td>-0.125771</td>\n",
       "      <td>-0.094216</td>\n",
       "      <td>-0.016003</td>\n",
       "      <td>-0.47014</td>\n",
       "      <td>-0.494196</td>\n",
       "      <td>0.778419</td>\n",
       "    </tr>\n",
       "    <tr>\n",
       "      <th>-1.655987</th>\n",
       "      <td>0.323502</td>\n",
       "      <td>0.396516</td>\n",
       "      <td>0.523127</td>\n",
       "      <td>0.837103</td>\n",
       "      <td>-0.445506</td>\n",
       "      <td>-0.499090</td>\n",
       "      <td>-0.204857</td>\n",
       "      <td>-0.402222</td>\n",
       "      <td>-0.083831</td>\n",
       "      <td>-0.860749</td>\n",
       "      <td>...</td>\n",
       "      <td>-0.167172</td>\n",
       "      <td>-0.104604</td>\n",
       "      <td>-0.110149</td>\n",
       "      <td>-0.100902</td>\n",
       "      <td>-0.125771</td>\n",
       "      <td>-0.094216</td>\n",
       "      <td>-0.016003</td>\n",
       "      <td>-0.47014</td>\n",
       "      <td>-0.494196</td>\n",
       "      <td>0.778419</td>\n",
       "    </tr>\n",
       "    <tr>\n",
       "      <th>-1.655785</th>\n",
       "      <td>0.323502</td>\n",
       "      <td>-0.545883</td>\n",
       "      <td>-0.192755</td>\n",
       "      <td>-0.681567</td>\n",
       "      <td>-0.518285</td>\n",
       "      <td>2.042255</td>\n",
       "      <td>-0.204857</td>\n",
       "      <td>-1.101855</td>\n",
       "      <td>-0.083831</td>\n",
       "      <td>-0.059034</td>\n",
       "      <td>...</td>\n",
       "      <td>-0.167172</td>\n",
       "      <td>-0.104604</td>\n",
       "      <td>-0.110149</td>\n",
       "      <td>-0.100902</td>\n",
       "      <td>-0.125771</td>\n",
       "      <td>-0.094216</td>\n",
       "      <td>-0.016003</td>\n",
       "      <td>-0.47014</td>\n",
       "      <td>2.023489</td>\n",
       "      <td>-1.284655</td>\n",
       "    </tr>\n",
       "    <tr>\n",
       "      <th>-1.668538</th>\n",
       "      <td>1.031262</td>\n",
       "      <td>-0.545883</td>\n",
       "      <td>-0.729667</td>\n",
       "      <td>-0.934679</td>\n",
       "      <td>-0.227168</td>\n",
       "      <td>-0.499090</td>\n",
       "      <td>-0.204857</td>\n",
       "      <td>-0.402222</td>\n",
       "      <td>-0.083831</td>\n",
       "      <td>-0.059034</td>\n",
       "      <td>...</td>\n",
       "      <td>-0.167172</td>\n",
       "      <td>-0.104604</td>\n",
       "      <td>-0.110149</td>\n",
       "      <td>-0.100902</td>\n",
       "      <td>-0.125771</td>\n",
       "      <td>-0.094216</td>\n",
       "      <td>-0.016003</td>\n",
       "      <td>-0.47014</td>\n",
       "      <td>-0.494196</td>\n",
       "      <td>0.778419</td>\n",
       "    </tr>\n",
       "    <tr>\n",
       "      <th>-1.655502</th>\n",
       "      <td>1.031262</td>\n",
       "      <td>-0.545883</td>\n",
       "      <td>-0.192755</td>\n",
       "      <td>-0.175344</td>\n",
       "      <td>3.339007</td>\n",
       "      <td>-0.499090</td>\n",
       "      <td>-0.204857</td>\n",
       "      <td>-0.752038</td>\n",
       "      <td>-0.083831</td>\n",
       "      <td>-0.459891</td>\n",
       "      <td>...</td>\n",
       "      <td>-0.167172</td>\n",
       "      <td>-0.104604</td>\n",
       "      <td>-0.110149</td>\n",
       "      <td>-0.100902</td>\n",
       "      <td>-0.125771</td>\n",
       "      <td>-0.094216</td>\n",
       "      <td>-0.016003</td>\n",
       "      <td>-0.47014</td>\n",
       "      <td>-0.494196</td>\n",
       "      <td>0.778419</td>\n",
       "    </tr>\n",
       "  </tbody>\n",
       "</table>\n",
       "<p>5 rows × 299 columns</p>\n",
       "</div>"
      ],
      "text/plain": [
       "           AGER_TYP  AKT_DAT_KL  ALTER_HH  ALTERSKATEGORIE_FEIN  \\\n",
       "LNR                                                               \n",
       "-1.656309  1.031262   -0.545883 -0.371726             -0.428455   \n",
       "-1.655987  0.323502    0.396516  0.523127              0.837103   \n",
       "-1.655785  0.323502   -0.545883 -0.192755             -0.681567   \n",
       "-1.668538  1.031262   -0.545883 -0.729667             -0.934679   \n",
       "-1.655502  1.031262   -0.545883 -0.192755             -0.175344   \n",
       "\n",
       "           ANZ_HAUSHALTE_AKTIV  ANZ_HH_TITEL  ANZ_KINDER  ANZ_PERSONEN  \\\n",
       "LNR                                                                      \n",
       "-1.656309             0.573402     -0.499090   -0.204857     -0.752038   \n",
       "-1.655987            -0.445506     -0.499090   -0.204857     -0.402222   \n",
       "-1.655785            -0.518285      2.042255   -0.204857     -1.101855   \n",
       "-1.668538            -0.227168     -0.499090   -0.204857     -0.402222   \n",
       "-1.655502             3.339007     -0.499090   -0.204857     -0.752038   \n",
       "\n",
       "           ANZ_TITEL    ARBEIT      ...        CAMEO_DEU_2015_8D  \\\n",
       "LNR                                 ...                            \n",
       "-1.656309  -0.083831 -0.459891      ...                -0.167172   \n",
       "-1.655987  -0.083831 -0.860749      ...                -0.167172   \n",
       "-1.655785  -0.083831 -0.059034      ...                -0.167172   \n",
       "-1.668538  -0.083831 -0.059034      ...                -0.167172   \n",
       "-1.655502  -0.083831 -0.459891      ...                -0.167172   \n",
       "\n",
       "           CAMEO_DEU_2015_9A  CAMEO_DEU_2015_9B  CAMEO_DEU_2015_9C  \\\n",
       "LNR                                                                  \n",
       "-1.656309          -0.104604          -0.110149          -0.100902   \n",
       "-1.655987          -0.104604          -0.110149          -0.100902   \n",
       "-1.655785          -0.104604          -0.110149          -0.100902   \n",
       "-1.668538          -0.104604          -0.110149          -0.100902   \n",
       "-1.655502          -0.104604          -0.110149          -0.100902   \n",
       "\n",
       "           CAMEO_DEU_2015_9D  CAMEO_DEU_2015_9E  CAMEO_DEU_2015_XX  \\\n",
       "LNR                                                                  \n",
       "-1.656309          -0.125771          -0.094216          -0.016003   \n",
       "-1.655987          -0.125771          -0.094216          -0.016003   \n",
       "-1.655785          -0.125771          -0.094216          -0.016003   \n",
       "-1.668538          -0.125771          -0.094216          -0.016003   \n",
       "-1.655502          -0.125771          -0.094216          -0.016003   \n",
       "\n",
       "           OST_WEST_KZ_-1  OST_WEST_KZ_O  OST_WEST_KZ_W  \n",
       "LNR                                                      \n",
       "-1.656309        -0.47014      -0.494196       0.778419  \n",
       "-1.655987        -0.47014      -0.494196       0.778419  \n",
       "-1.655785        -0.47014       2.023489      -1.284655  \n",
       "-1.668538        -0.47014      -0.494196       0.778419  \n",
       "-1.655502        -0.47014      -0.494196       0.778419  \n",
       "\n",
       "[5 rows x 299 columns]"
      ]
     },
     "execution_count": 32,
     "metadata": {},
     "output_type": "execute_result"
    }
   ],
   "source": [
    "df_mailout_train.head()"
   ]
  },
  {
   "cell_type": "code",
   "execution_count": 33,
   "metadata": {},
   "outputs": [],
   "source": [
    "# Split dataset \n",
    "X_train, X_val, y_train, y_val = train_test_split(df_mailout_train, y, stratify=y, test_size=0.2, random_state=42)"
   ]
  },
  {
   "cell_type": "code",
   "execution_count": 34,
   "metadata": {},
   "outputs": [
    {
     "name": "stdout",
     "output_type": "stream",
     "text": [
      "[18:21:00] WARNING: /workspace/src/objective/regression_obj.cu:167: reg:linear is now deprecated in favor of reg:squarederror.\n"
     ]
    },
    {
     "data": {
      "text/plain": [
       "XGBRegressor(alpha=10, base_score=0.5, booster=None, colsample_bylevel=1,\n",
       "       colsample_bynode=1, colsample_bytree=0.3, gamma=0, gpu_id=-1,\n",
       "       importance_type='gain', interaction_constraints=None,\n",
       "       learning_rate=0.1, max_delta_step=0, max_depth=5,\n",
       "       min_child_weight=1, missing=nan, monotone_constraints=None,\n",
       "       n_estimators=10, n_jobs=0, num_parallel_tree=1,\n",
       "       objective='reg:linear', random_state=0, reg_alpha=10, reg_lambda=1,\n",
       "       scale_pos_weight=1, subsample=1, tree_method=None,\n",
       "       validate_parameters=False, verbosity=None)"
      ]
     },
     "execution_count": 34,
     "metadata": {},
     "output_type": "execute_result"
    }
   ],
   "source": [
    "xg_reg = xgb.XGBRegressor(objective ='reg:linear', colsample_bytree = 0.3, learning_rate = 0.1,\n",
    "                max_depth = 5, alpha = 10, n_estimators = 10)\n",
    "xg_reg.fit(X_train,y_train)\n"
   ]
  },
  {
   "cell_type": "code",
   "execution_count": 35,
   "metadata": {},
   "outputs": [
    {
     "data": {
      "text/plain": [
       "array([ 0.18259767,  0.18259767,  0.18259767, ...,  0.18259767,\n",
       "        0.18259767,  0.18259767], dtype=float32)"
      ]
     },
     "execution_count": 35,
     "metadata": {},
     "output_type": "execute_result"
    }
   ],
   "source": [
    "preds = xg_reg.predict(X_val)\n",
    "preds"
   ]
  },
  {
   "cell_type": "code",
   "execution_count": 36,
   "metadata": {},
   "outputs": [
    {
     "name": "stdout",
     "output_type": "stream",
     "text": [
      "ROC score on validation data: 0.5000\n"
     ]
    }
   ],
   "source": [
    "print(\"ROC score on validation data: {:.4f}\".format(roc_auc_score(y_val, preds)))"
   ]
  },
  {
   "cell_type": "code",
   "execution_count": 37,
   "metadata": {},
   "outputs": [],
   "source": [
    "def train_predict(learner, X_train, y_train, X_test, y_test): \n",
    "    '''\n",
    "    inputs:\n",
    "       - learner: the learning algorithm to be trained and predicted on\n",
    "       - sample_size: the size of samples (number) to be drawn from training set\n",
    "       - X_train: features training set\n",
    "       - y_train: income training set\n",
    "       - X_test: features testing set\n",
    "       - y_test: income testing set\n",
    "    '''\n",
    "    \n",
    "    results = {}\n",
    "    \n",
    "    # TODO: Fit the learner to the training data using slicing with 'sample_size' using .fit(training_features[:], training_labels[:])\n",
    "    start = time() # Get start time\n",
    "    learner = learner.fit(X_train, y_train)\n",
    "    end = time() # Get end time\n",
    "    \n",
    "    # TODO: Calculate the training time\n",
    "    #results['train_time'] = end - start\n",
    "        \n",
    "    # TODO: Get the predictions on the test set(X_test),\n",
    "    #       then get predictions on the first 300 training samples(X_train) using .predict()\n",
    "    start = time() # Get start time\n",
    "    predictions_test = learner.predict(X_test)\n",
    "    predictions_train = learner.predict(X_train)\n",
    "    end = time() # Get end time\n",
    "    \n",
    "    # print('unique predictions_train: ', set(predictions_train))\n",
    "    \n",
    "    # TODO: Calculate the total prediction time\n",
    "    #results['pred_time'] = end - start\n",
    "            \n",
    "    # TODO: Compute accuracy on the first 300 training samples which is y_train[:300]\n",
    "    #results['acc_train'] = accuracy_score(y_train, predictions_train)\n",
    "        \n",
    "    # TODO: Compute accuracy on test set using accuracy_score()\n",
    "    #results['acc_test'] = accuracy_score(y_test, predictions_test)\n",
    "    \n",
    "    #results['prec_train'] = precision_score(y_train, predictions_train)\n",
    "    #results['recall_train'] = recall_score(y_train, predictions_train)\n",
    "    \n",
    "    #results['prec_test'] = precision_score(y_test, predictions_test)\n",
    "    #results['recall_test'] = recall_score(y_test, predictions_test)\n",
    "    \n",
    "    # TODO: Compute F-score on the the first 300 training samples using fbeta_score()\n",
    "    #results['f_train'] = fbeta_score(y_train, predictions_train, beta=1)\n",
    "        \n",
    "    # TODO: Compute F-score on the test set which is y_test\n",
    "    #results['f_test'] = fbeta_score(y_test, predictions_test, beta=1)\n",
    "       \n",
    "    # Success\n",
    "    #print(\"{} trained on samples.\".format(learner.__class__.__name__))\n",
    "    \n",
    "    #results['roc'] = roc_auc_score(y_test, predictions_test)\n",
    "    \n",
    "    roc = roc_auc_score(y_test, predictions_test)\n",
    "        \n",
    "    # Return the results\n",
    "    return roc"
   ]
  },
  {
   "cell_type": "code",
   "execution_count": 38,
   "metadata": {},
   "outputs": [
    {
     "data": {
      "text/plain": [
       "5"
      ]
     },
     "execution_count": 38,
     "metadata": {},
     "output_type": "execute_result"
    }
   ],
   "source": [
    "# Initialize 5 stratified folds\n",
    "skf = StratifiedKFold(n_splits=5, random_state=42)\n",
    "skf.get_n_splits(X, y)"
   ]
  },
  {
   "cell_type": "code",
   "execution_count": 39,
   "metadata": {},
   "outputs": [
    {
     "name": "stdout",
     "output_type": "stream",
     "text": [
      "{'alg_name': 'AdaBoostRegressor', 'fold': 1, 'roc': 0.7520605681485284}\n",
      "{'alg_name': 'AdaBoostRegressor', 'fold': 2, 'roc': 0.76112332351690848}\n",
      "{'alg_name': 'AdaBoostRegressor', 'fold': 3, 'roc': 0.78820888122056743}\n",
      "{'alg_name': 'AdaBoostRegressor', 'fold': 4, 'roc': 0.72870910578577819}\n",
      "{'alg_name': 'AdaBoostRegressor', 'fold': 5, 'roc': 0.73072796926347061}\n",
      "{'alg_name': 'GradientBoostingRegressor', 'fold': 1, 'roc': 0.73311512529708089}\n",
      "{'alg_name': 'GradientBoostingRegressor', 'fold': 2, 'roc': 0.75193446710469802}\n",
      "{'alg_name': 'GradientBoostingRegressor', 'fold': 3, 'roc': 0.80506516837943964}\n",
      "{'alg_name': 'GradientBoostingRegressor', 'fold': 4, 'roc': 0.73210648837819448}\n",
      "{'alg_name': 'GradientBoostingRegressor', 'fold': 5, 'roc': 0.75577588391979689}\n",
      "{'alg_name': 'XGBRegressor', 'fold': 1, 'roc': 0.5558291721824401}\n",
      "{'alg_name': 'XGBRegressor', 'fold': 2, 'roc': 0.60636375250274777}\n",
      "{'alg_name': 'XGBRegressor', 'fold': 3, 'roc': 0.65723789237767871}\n",
      "{'alg_name': 'XGBRegressor', 'fold': 4, 'roc': 0.6270071905335759}\n",
      "{'alg_name': 'XGBRegressor', 'fold': 5, 'roc': 0.58278952236536097}\n"
     ]
    }
   ],
   "source": [
    "alg_abr = AdaBoostRegressor(random_state=42)\n",
    "alg_gbr = GradientBoostingRegressor(random_state=42)\n",
    "alg_xgb = XGBRegressor(random_state=42)\n",
    "\n",
    "\n",
    "result_list = []\n",
    "for alg in [alg_abr, alg_gbr, alg_xgb]:\n",
    "    alg_name = alg.__class__.__name__\n",
    "    \n",
    "    \n",
    "    \n",
    "    j=0\n",
    "    for train_index, val_index in skf.split(df_mailout_train, y):\n",
    "    \n",
    "        j+=1\n",
    "        #print('Fold {}...'.format(j))\n",
    "        result = {}  \n",
    "        result['alg_name'] = alg_name\n",
    "        result['fold']  =  j\n",
    "        # Split the data into training and test sets\n",
    "        X_train, X_val = df_mailout_train.iloc[train_index], df_mailout_train.iloc[val_index]\n",
    "        y_train, y_val = y.iloc[train_index], y.iloc[val_index]\n",
    "        \n",
    "        \n",
    "        \n",
    "        result['roc'] = train_predict(alg, X_train, y_train, X_val, y_val)\n",
    "        result_list.append(result)\n",
    "        print (result)\n",
    "    \n",
    "#return result_list    \n",
    "\n",
    "#print('result_list: ', result_list)"
   ]
  },
  {
   "cell_type": "code",
   "execution_count": 42,
   "metadata": {},
   "outputs": [
    {
     "data": {
      "text/plain": [
       "alg_name\n",
       "AdaBoostRegressor            0.752166\n",
       "GradientBoostingRegressor    0.755599\n",
       "XGBRegressor                 0.605846\n",
       "Name: roc, dtype: float64"
      ]
     },
     "execution_count": 42,
     "metadata": {},
     "output_type": "execute_result"
    }
   ],
   "source": [
    "df_scores = pd.DataFrame(result_list)\n",
    "df_scores.groupby('alg_name')['roc'].mean()"
   ]
  },
  {
   "cell_type": "code",
   "execution_count": 43,
   "metadata": {},
   "outputs": [
    {
     "name": "stderr",
     "output_type": "stream",
     "text": [
      "/opt/conda/lib/python3.6/site-packages/sklearn/model_selection/_search.py:761: DeprecationWarning: The grid_scores_ attribute was deprecated in version 0.18 in favor of the more elaborate cv_results_ attribute. The grid_scores_ attribute will not be available from 0.20\n",
      "  DeprecationWarning)\n"
     ]
    },
    {
     "data": {
      "text/plain": [
       "0.76308926133609623"
      ]
     },
     "execution_count": 43,
     "metadata": {},
     "output_type": "execute_result"
    }
   ],
   "source": [
    "param ={\n",
    "            'n_estimators': [500],\n",
    "            'max_depth':[4],\n",
    "            'learning_rate':[0.01,0.05,0.1]\n",
    "        }\n",
    "# Perform grid search on the classifier using 'scorer' as the scoring method\n",
    "cv = GridSearchCV(alg_gbr, param, scoring = 'roc_auc', n_jobs= -1, cv=5)\n",
    "\n",
    "# Fit the grid search object to the training data and find the optimal parameters\n",
    "grid_fit = cv.fit(X_train, y_train)\n",
    "\n",
    "cv.grid_scores_, cv.best_params_, cv.best_score_\n",
    "\n",
    "# Get the estimator and predict\n",
    "best_clf = grid_fit.best_estimator_\n",
    "#predictions = (best_clf.fit(X_train, y_train)).predict(X_test)\n",
    "\n",
    "best_predictions = best_clf.predict(X_val)\n",
    "roc_auc_score(y_val, best_predictions)"
   ]
  },
  {
   "cell_type": "code",
   "execution_count": 44,
   "metadata": {},
   "outputs": [
    {
     "data": {
      "text/plain": [
       "array([  1.07243884e-03,   1.21542964e-04,   3.96407455e-03,\n",
       "         1.04801598e-02,   2.44717948e-02,   8.31372523e-03,\n",
       "         1.85264239e-02,   4.50693107e-03,   4.59829465e-03,\n",
       "         2.84541266e-03,   7.79815788e-04,   1.92281811e-03,\n",
       "         3.24908983e-03,   5.18550194e-03,   8.45982507e-03,\n",
       "         3.36776642e-03,   3.41905849e-04,   2.23689209e-03,\n",
       "         2.47178676e-02,   1.20655648e-03,   3.40388920e-03,\n",
       "         3.55559854e-03,   3.32201078e-04,   3.14876634e-03,\n",
       "         2.71058675e-03,   2.25807204e-04,   4.89396455e-03,\n",
       "         8.62843161e-04,   3.04366494e-03,   9.30106839e-04,\n",
       "         4.18641341e-07,   3.14651487e-03,   0.00000000e+00,\n",
       "         2.03103836e-03,   8.73550553e-03,   4.53439191e-03,\n",
       "         2.39308279e-03,   4.22711435e-03,   1.17434531e-03,\n",
       "         6.83712808e-04,   0.00000000e+00,   2.37021989e-02,\n",
       "         1.70533154e-03,   1.19875292e-02,   9.80016737e-04,\n",
       "         2.22080478e-03,   2.03329784e-03,   1.54057326e-03,\n",
       "         2.65514706e-03,   1.19923295e-01,   3.00917957e-03,\n",
       "         1.63416762e-03,   1.18707857e-03,   1.67730606e-03,\n",
       "         7.10872969e-03,   0.00000000e+00,   5.63574611e-05,\n",
       "         2.92882445e-04,   4.01443560e-05,   5.64046258e-04,\n",
       "         1.20311003e-02,   9.27962419e-03,   6.50556864e-04,\n",
       "         4.16520863e-07,   1.95037514e-02,   0.00000000e+00,\n",
       "         1.01895904e-02,   1.98604140e-03,   1.49864983e-03,\n",
       "         6.88469925e-10,   3.95101552e-03,   1.41009202e-03,\n",
       "         2.46062925e-03,   1.55541711e-02,   1.51247665e-02,\n",
       "         8.75513897e-04,   2.44249351e-03,   0.00000000e+00,\n",
       "         4.12073303e-03,   7.52423039e-03,   1.19586406e-03,\n",
       "         1.93499275e-03,   9.00655597e-04,   8.49672075e-03,\n",
       "         2.12559444e-03,   3.53568184e-04,   1.82430606e-03,\n",
       "         1.64163680e-03,   9.38577122e-03,   0.00000000e+00,\n",
       "         8.29871342e-04,   1.44814684e-03,   1.98293306e-03,\n",
       "         2.31873750e-03,   1.40584134e-03,   4.15018663e-03,\n",
       "         1.27795244e-03,   2.51431935e-03,   1.51193000e-03,\n",
       "         4.85022139e-03,   9.44329569e-03,   9.56760367e-05,\n",
       "         1.37372397e-03,   1.45788005e-04,   4.09428829e-04,\n",
       "         6.61763413e-04,   1.14780808e-03,   9.58583458e-03,\n",
       "         2.84383312e-03,   3.39282770e-04,   1.12700589e-04,\n",
       "         1.92184297e-03,   1.96235832e-04,   0.00000000e+00,\n",
       "         4.72587429e-03,   1.53245438e-03,   3.95192334e-04,\n",
       "         1.38976899e-03,   3.22277297e-03,   9.56540194e-04,\n",
       "         1.24868123e-04,   4.74250373e-04,   3.80970696e-03,\n",
       "         8.22330831e-04,   1.36007774e-03,   1.73332050e-04,\n",
       "         2.06726357e-03,   1.68505166e-03,   7.55609820e-03,\n",
       "         1.97854908e-03,   6.99072094e-03,   0.00000000e+00,\n",
       "         1.67582361e-03,   3.22013419e-05,   2.45201758e-02,\n",
       "         1.48623555e-03,   5.25603204e-04,   1.00674516e-03,\n",
       "         1.87269163e-03,   1.50570749e-03,   6.02212971e-04,\n",
       "         3.54172667e-03,   2.68169300e-03,   2.06197185e-03,\n",
       "         2.22855891e-03,   4.85749209e-03,   1.68592512e-03,\n",
       "         6.47712874e-03,   5.50918872e-04,   5.93544352e-03,\n",
       "         4.19794684e-03,   1.20138557e-04,   3.68054295e-03,\n",
       "         5.24938257e-04,   6.75549408e-03,   6.14009843e-03,\n",
       "         1.86607515e-03,   2.51437945e-03,   4.93154117e-03,\n",
       "         9.12031539e-04,   4.31252243e-03,   3.62545893e-03,\n",
       "         2.03115151e-03,   8.65900316e-03,   3.13497325e-03,\n",
       "         3.20408596e-04,   3.66529446e-03,   1.96892019e-03,\n",
       "         5.12252906e-03,   3.42331814e-03,   7.77968346e-03,\n",
       "         1.00990412e-03,   1.71808465e-03,   1.95866393e-05,\n",
       "         1.64637899e-03,   2.05303563e-03,   1.22729084e-03,\n",
       "         1.40924217e-03,   5.14546795e-03,   2.78714428e-03,\n",
       "         1.74195370e-03,   0.00000000e+00,   0.00000000e+00,\n",
       "         1.34120295e-03,   2.00288497e-03,   3.48089223e-04,\n",
       "         5.65134756e-04,   6.58981611e-03,   4.06144462e-03,\n",
       "         2.15826884e-03,   3.07704075e-04,   2.20464830e-03,\n",
       "         1.14586900e-03,   1.25179047e-03,   4.57831519e-04,\n",
       "         2.17800846e-03,   7.21007175e-04,   2.35245528e-03,\n",
       "         4.92273346e-04,   4.66714264e-03,   5.48114692e-04,\n",
       "         2.12460276e-03,   1.38906913e-04,   1.56975218e-03,\n",
       "         3.51435596e-03,   2.96618269e-03,   2.23069592e-03,\n",
       "         1.56873258e-04,   8.87122976e-03,   3.03527827e-04,\n",
       "         2.19873669e-03,   3.54082808e-04,   1.32253158e-03,\n",
       "         5.02020436e-04,   2.73333388e-03,   2.03181454e-03,\n",
       "         7.59483772e-03,   2.89169362e-02,   2.47426129e-03,\n",
       "         1.39151350e-03,   1.10233896e-02,   9.92334029e-05,\n",
       "         1.62122294e-04,   5.16267303e-04,   1.32725546e-03,\n",
       "         1.19474612e-03,   1.34679858e-03,   8.92058793e-03,\n",
       "         5.42385384e-04,   2.40426908e-03,   6.34798469e-04,\n",
       "         2.46466432e-03,   1.35982075e-03,   4.09936276e-04,\n",
       "         1.69416816e-03,   7.08428828e-04,   2.44964782e-04,\n",
       "         5.20103616e-04,   1.37768989e-03,   3.67257544e-03,\n",
       "         5.46260690e-03,   0.00000000e+00,   1.06101613e-02,\n",
       "         7.95778406e-03,   9.86931260e-04,   7.27381132e-03,\n",
       "         2.28757864e-03,   3.60699033e-05,   3.27944089e-04,\n",
       "         1.63672412e-03,   3.91785032e-04,   1.22413347e-04,\n",
       "         2.05349249e-03,   0.00000000e+00,   6.37581835e-04,\n",
       "         5.93139485e-03,   2.77265033e-03,   2.47770288e-04,\n",
       "         3.05516866e-03,   0.00000000e+00,   0.00000000e+00,\n",
       "         0.00000000e+00,   0.00000000e+00,   2.73604385e-03,\n",
       "         0.00000000e+00,   0.00000000e+00,   1.07637105e-02,\n",
       "         2.31370879e-03,   3.26694983e-04,   3.19969647e-03,\n",
       "         4.64536104e-03,   5.56227444e-03,   1.85241035e-03,\n",
       "         5.64142360e-04,   5.27682735e-03,   1.77651199e-03,\n",
       "         3.84824603e-04,   6.73291484e-04,   0.00000000e+00,\n",
       "         1.40942382e-04,   4.38741064e-04,   8.75842743e-04,\n",
       "         0.00000000e+00,   2.86257614e-03,   2.65881361e-04,\n",
       "         2.24069297e-03,   3.78340151e-04,   0.00000000e+00,\n",
       "         0.00000000e+00,   2.08523882e-04,   0.00000000e+00,\n",
       "         1.44691243e-03,   5.86047401e-03,   5.14738952e-04,\n",
       "         0.00000000e+00,   0.00000000e+00,   5.11749948e-04,\n",
       "         0.00000000e+00,   2.65164701e-04])"
      ]
     },
     "execution_count": 44,
     "metadata": {},
     "output_type": "execute_result"
    }
   ],
   "source": [
    "feat_importance = best_clf.feature_importances_\n",
    "feat_importance"
   ]
  },
  {
   "cell_type": "code",
   "execution_count": 46,
   "metadata": {},
   "outputs": [
    {
     "name": "stdout",
     "output_type": "stream",
     "text": [
      "['D19_SOZIALES' 'MIN_GEBAEUDEJAHR' 'D19_BANKEN_ANZ_12' 'KBA13_ANZAHL_PKW'\n",
      " 'ANZ_HAUSHALTE_AKTIV']\n",
      "[ 0.1199233   0.02891694  0.02471787  0.02452018  0.02447179]\n"
     ]
    },
    {
     "data": {
      "image/png": "[encoded data removed]",
      "text/plain": [
       "<matplotlib.figure.Figure at 0x7f0c675f6b70>"
      ]
     },
     "metadata": {
      "needs_background": "light"
     },
     "output_type": "display_data"
    }
   ],
   "source": [
    "num_feat = 5\n",
    "\n",
    "indices = np.argsort(feat_importance)[::-1]\n",
    "columns = X_train.columns.values[indices[:num_feat]]\n",
    "values = feat_importance[indices][:num_feat]\n",
    "\n",
    "#print((indices))\n",
    "print(columns)\n",
    "print(values)\n",
    "\n",
    "plt.title('Feature Importances')\n",
    "plt.barh(np.arange(num_feat), values, color='b', align='center', label = \"Feature Weight\")\n",
    "#plt.barh(np.arange(num_feat), np.cumsum(values), color='b', align='center',label = \"Cumsum Weight\")\n",
    "\n",
    "\n",
    "plt.yticks(np.arange(num_feat), columns)\n",
    "plt.xlabel('Relative Importance')\n",
    "plt.show()\n",
    "\n",
    "#for name, importance in zip(X_train.column, feat_importance):\n",
    "#    print(name, \"=\", importance)"
   ]
  },
  {
   "cell_type": "markdown",
   "metadata": {},
   "source": [
    "## Part 3: Kaggle Competition\n",
    "\n",
    "Now that you've created a model to predict which individuals are most likely to respond to a mailout campaign, it's time to test that model in competition through Kaggle. If you click on the link [here](http://www.kaggle.com/t/21e6d45d4c574c7fa2d868f0e8c83140), you'll be taken to the competition page where, if you have a Kaggle account, you can enter. If you're one of the top performers, you may have the chance to be contacted by a hiring manager from Arvato or Bertelsmann for an interview!\n",
    "\n",
    "Your entry to the competition should be a CSV file with two columns. The first column should be a copy of \"LNR\", which acts as an ID number for each individual in the \"TEST\" partition. The second column, \"RESPONSE\", should be some measure of how likely each individual became a customer – this might not be a straightforward probability. As you should have found in Part 2, there is a large output class imbalance, where most individuals did not respond to the mailout. Thus, predicting individual classes and using accuracy does not seem to be an appropriate performance evaluation method. Instead, the competition will be using AUC to evaluate performance. The exact values of the \"RESPONSE\" column do not matter as much: only that the higher values try to capture as many of the actual customers as possible, early in the ROC curve sweep."
   ]
  },
  {
   "cell_type": "code",
   "execution_count": 54,
   "metadata": {},
   "outputs": [
    {
     "name": "stderr",
     "output_type": "stream",
     "text": [
      "/opt/conda/lib/python3.6/site-packages/IPython/core/interactiveshell.py:2785: DtypeWarning: Columns (18,19) have mixed types. Specify dtype option on import or set low_memory=False.\n",
      "  interactivity=interactivity, compiler=compiler, result=result)\n"
     ]
    }
   ],
   "source": [
    "mailout_test = pd.read_csv('../../data/Term2/capstone/arvato_data/Udacity_MAILOUT_052018_TEST.csv', sep=';')"
   ]
  },
  {
   "cell_type": "code",
   "execution_count": 55,
   "metadata": {},
   "outputs": [
    {
     "data": {
      "text/plain": [
       "['RESPONSE']"
      ]
     },
     "execution_count": 55,
     "metadata": {},
     "output_type": "execute_result"
    }
   ],
   "source": [
    "# as we want to make prediction using model trained with mailout_train, check/make sure this dataset is not different\n",
    "missing = list(np.setdiff1d(mailout_train.columns, mailout_test.columns))\n",
    "missing"
   ]
  },
  {
   "cell_type": "code",
   "execution_count": 56,
   "metadata": {},
   "outputs": [
    {
     "name": "stdout",
     "output_type": "stream",
     "text": [
      "before preprocessing mailout_test.shape:  (42833, 366)\n",
      "shape after corr (42833, 253)\n",
      "shape after one-hot (42833, 300)\n",
      "shape after impute (42833, 300)\n",
      "shape after scaling (42833, 300)\n",
      "after preprocessing mailout_test_clean.shape:  (42833, 299)\n"
     ]
    }
   ],
   "source": [
    "print('before preprocessing mailout_test.shape: ', mailout_test.shape)\n",
    "mailout_test_clean = data_preprocess(mailout_test, False)\n",
    "print('after preprocessing mailout_test_clean.shape: ', mailout_test_clean.shape)"
   ]
  },
  {
   "cell_type": "code",
   "execution_count": 57,
   "metadata": {},
   "outputs": [],
   "source": [
    "prediction_for_kaggle = best_clf.predict(mailout_test_clean)"
   ]
  },
  {
   "cell_type": "code",
   "execution_count": 58,
   "metadata": {},
   "outputs": [
    {
     "data": {
      "text/html": [
       "<div>\n",
       "<style scoped>\n",
       "    .dataframe tbody tr th:only-of-type {\n",
       "        vertical-align: middle;\n",
       "    }\n",
       "\n",
       "    .dataframe tbody tr th {\n",
       "        vertical-align: top;\n",
       "    }\n",
       "\n",
       "    .dataframe thead th {\n",
       "        text-align: right;\n",
       "    }\n",
       "</style>\n",
       "<table border=\"1\" class=\"dataframe\">\n",
       "  <thead>\n",
       "    <tr style=\"text-align: right;\">\n",
       "      <th></th>\n",
       "      <th>RESPONSE</th>\n",
       "    </tr>\n",
       "    <tr>\n",
       "      <th>LNR</th>\n",
       "      <th></th>\n",
       "    </tr>\n",
       "  </thead>\n",
       "  <tbody>\n",
       "    <tr>\n",
       "      <th>1754</th>\n",
       "      <td>0.028279</td>\n",
       "    </tr>\n",
       "    <tr>\n",
       "      <th>1770</th>\n",
       "      <td>0.029929</td>\n",
       "    </tr>\n",
       "    <tr>\n",
       "      <th>1465</th>\n",
       "      <td>0.006263</td>\n",
       "    </tr>\n",
       "    <tr>\n",
       "      <th>1470</th>\n",
       "      <td>0.004441</td>\n",
       "    </tr>\n",
       "    <tr>\n",
       "      <th>1478</th>\n",
       "      <td>0.008125</td>\n",
       "    </tr>\n",
       "    <tr>\n",
       "      <th>1782</th>\n",
       "      <td>0.002766</td>\n",
       "    </tr>\n",
       "    <tr>\n",
       "      <th>1485</th>\n",
       "      <td>0.003115</td>\n",
       "    </tr>\n",
       "    <tr>\n",
       "      <th>1519</th>\n",
       "      <td>0.024718</td>\n",
       "    </tr>\n",
       "    <tr>\n",
       "      <th>1835</th>\n",
       "      <td>0.023812</td>\n",
       "    </tr>\n",
       "    <tr>\n",
       "      <th>1522</th>\n",
       "      <td>0.001509</td>\n",
       "    </tr>\n",
       "  </tbody>\n",
       "</table>\n",
       "</div>"
      ],
      "text/plain": [
       "      RESPONSE\n",
       "LNR           \n",
       "1754  0.028279\n",
       "1770  0.029929\n",
       "1465  0.006263\n",
       "1470  0.004441\n",
       "1478  0.008125\n",
       "1782  0.002766\n",
       "1485  0.003115\n",
       "1519  0.024718\n",
       "1835  0.023812\n",
       "1522  0.001509"
      ]
     },
     "execution_count": 58,
     "metadata": {},
     "output_type": "execute_result"
    }
   ],
   "source": [
    "df_kaggle = pd.DataFrame(index=mailout_test['LNR'].astype('int32'), data=prediction_for_kaggle)\n",
    "df_kaggle.rename(columns={0: \"RESPONSE\"}, inplace=True)\n",
    "df_kaggle.head(10)"
   ]
  },
  {
   "cell_type": "code",
   "execution_count": 59,
   "metadata": {},
   "outputs": [],
   "source": [
    "df_kaggle.to_csv('submission.csv')"
   ]
  },
  {
   "cell_type": "code",
   "execution_count": null,
   "metadata": {},
   "outputs": [],
   "source": []
  }
 ],
 "metadata": {
  "kernelspec": {
   "display_name": "Python 3",
   "language": "python",
   "name": "python3"
  },
  "language_info": {
   "codemirror_mode": {
    "name": "ipython",
    "version": 3
   },
   "file_extension": ".py",
   "mimetype": "text/x-python",
   "name": "python",
   "nbconvert_exporter": "python",
   "pygments_lexer": "ipython3",
   "version": "3.6.3"
  }
 },
 "nbformat": 4,
 "nbformat_minor": 2
}
